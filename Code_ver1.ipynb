{
 "cells": [
  {
   "cell_type": "code",
   "execution_count": 7,
   "metadata": {},
   "outputs": [
    {
     "name": "stdout",
     "output_type": "stream",
     "text": [
      "setup done\n"
     ]
    }
   ],
   "source": [
    "import math\n",
    "import pandas as pd\n",
    "\n",
    "print(\"setup done\")"
   ]
  },
  {
   "cell_type": "code",
   "execution_count": 6,
   "metadata": {},
   "outputs": [],
   "source": [
    "df = pd.read_csv('./dataset/brazil_report.csv', sep=';', parse_dates=['Sale Date Time'])\n",
    "\n",
    "print(\"dataset Loaded\")"
   ]
  },
  {
   "cell_type": "code",
   "execution_count": 12,
   "metadata": {},
   "outputs": [
    {
     "data": {
      "text/html": [
       "<div>\n",
       "<style scoped>\n",
       "    .dataframe tbody tr th:only-of-type {\n",
       "        vertical-align: middle;\n",
       "    }\n",
       "\n",
       "    .dataframe tbody tr th {\n",
       "        vertical-align: top;\n",
       "    }\n",
       "\n",
       "    .dataframe thead th {\n",
       "        text-align: right;\n",
       "    }\n",
       "</style>\n",
       "<table border=\"1\" class=\"dataframe\">\n",
       "  <thead>\n",
       "    <tr style=\"text-align: right;\">\n",
       "      <th></th>\n",
       "      <th>Company Code</th>\n",
       "      <th>Order Number</th>\n",
       "      <th>Employee</th>\n",
       "      <th>Product</th>\n",
       "      <th>Product Category</th>\n",
       "      <th>Client</th>\n",
       "      <th>Client City</th>\n",
       "      <th>Product Cost</th>\n",
       "      <th>Discount Amount</th>\n",
       "      <th>Amount</th>\n",
       "      <th>Total</th>\n",
       "      <th>Form of payment</th>\n",
       "      <th>Date</th>\n",
       "    </tr>\n",
       "  </thead>\n",
       "  <tbody>\n",
       "    <tr>\n",
       "      <td>0</td>\n",
       "      <td>39000</td>\n",
       "      <td>12</td>\n",
       "      <td>Stacy Day</td>\n",
       "      <td>Special Gasoline</td>\n",
       "      <td>Fuel</td>\n",
       "      <td>Customer not informed</td>\n",
       "      <td>No City</td>\n",
       "      <td>3.050</td>\n",
       "      <td>0.0</td>\n",
       "      <td>5.642</td>\n",
       "      <td>20.02</td>\n",
       "      <td>Money</td>\n",
       "      <td>2017-03-31 04:10:00</td>\n",
       "    </tr>\n",
       "    <tr>\n",
       "      <td>1</td>\n",
       "      <td>39000</td>\n",
       "      <td>21</td>\n",
       "      <td>Olive Stevenson</td>\n",
       "      <td>Special Diesel</td>\n",
       "      <td>Fuel</td>\n",
       "      <td>Customer not informed</td>\n",
       "      <td>No City</td>\n",
       "      <td>2.510</td>\n",
       "      <td>0.0</td>\n",
       "      <td>125.045</td>\n",
       "      <td>350.00</td>\n",
       "      <td>Debit Card</td>\n",
       "      <td>2017-03-31 04:13:00</td>\n",
       "    </tr>\n",
       "    <tr>\n",
       "      <td>2</td>\n",
       "      <td>39000</td>\n",
       "      <td>38</td>\n",
       "      <td>Stacy Day</td>\n",
       "      <td>Special Diesel</td>\n",
       "      <td>Fuel</td>\n",
       "      <td>Customer not informed</td>\n",
       "      <td>No City</td>\n",
       "      <td>2.510</td>\n",
       "      <td>0.0</td>\n",
       "      <td>35.699</td>\n",
       "      <td>99.92</td>\n",
       "      <td>Money</td>\n",
       "      <td>2017-03-31 04:25:00</td>\n",
       "    </tr>\n",
       "    <tr>\n",
       "      <td>3</td>\n",
       "      <td>39000</td>\n",
       "      <td>39</td>\n",
       "      <td>Olive Stevenson</td>\n",
       "      <td>Lubricant 1108</td>\n",
       "      <td>Lubricant</td>\n",
       "      <td>Customer not informed</td>\n",
       "      <td>No City</td>\n",
       "      <td>7.409</td>\n",
       "      <td>0.0</td>\n",
       "      <td>1.000</td>\n",
       "      <td>13.00</td>\n",
       "      <td>Money</td>\n",
       "      <td>2017-03-31 04:26:00</td>\n",
       "    </tr>\n",
       "    <tr>\n",
       "      <td>4</td>\n",
       "      <td>39000</td>\n",
       "      <td>39</td>\n",
       "      <td>Olive Stevenson</td>\n",
       "      <td>Diesel Auto Clean</td>\n",
       "      <td>Fuel</td>\n",
       "      <td>Customer not informed</td>\n",
       "      <td>No City</td>\n",
       "      <td>2.560</td>\n",
       "      <td>0.0</td>\n",
       "      <td>42.162</td>\n",
       "      <td>120.96</td>\n",
       "      <td>Money</td>\n",
       "      <td>2017-03-31 04:26:00</td>\n",
       "    </tr>\n",
       "  </tbody>\n",
       "</table>\n",
       "</div>"
      ],
      "text/plain": [
       "   Company Code  Order Number         Employee            Product  \\\n",
       "0         39000            12        Stacy Day   Special Gasoline   \n",
       "1         39000            21  Olive Stevenson     Special Diesel   \n",
       "2         39000            38        Stacy Day     Special Diesel   \n",
       "3         39000            39  Olive Stevenson     Lubricant 1108   \n",
       "4         39000            39  Olive Stevenson  Diesel Auto Clean   \n",
       "\n",
       "  Product Category                 Client Client City  Product Cost  \\\n",
       "0             Fuel  Customer not informed     No City         3.050   \n",
       "1             Fuel  Customer not informed     No City         2.510   \n",
       "2             Fuel  Customer not informed     No City         2.510   \n",
       "3        Lubricant  Customer not informed     No City         7.409   \n",
       "4             Fuel  Customer not informed     No City         2.560   \n",
       "\n",
       "   Discount Amount   Amount   Total Form of payment                Date  \n",
       "0              0.0    5.642   20.02           Money 2017-03-31 04:10:00  \n",
       "1              0.0  125.045  350.00      Debit Card 2017-03-31 04:13:00  \n",
       "2              0.0   35.699   99.92           Money 2017-03-31 04:25:00  \n",
       "3              0.0    1.000   13.00           Money 2017-03-31 04:26:00  \n",
       "4              0.0   42.162  120.96           Money 2017-03-31 04:26:00  "
      ]
     },
     "execution_count": 12,
     "metadata": {},
     "output_type": "execute_result"
    }
   ],
   "source": [
    "\n",
    "df['Date'] = pd.to_datetime(df['Sale Date Time'])\n",
    "df = df.drop(columns=['Sale Date Time'])\n",
    "df.head()"
   ]
  },
  {
   "cell_type": "code",
   "execution_count": 36,
   "metadata": {},
   "outputs": [
    {
     "name": "stdout",
     "output_type": "stream",
     "text": [
      "26951165\n",
      "2200978\n"
     ]
    }
   ],
   "source": [
    "# print(len(df['Client'].unique()))\n",
    "# print(len(df['Client']))\n",
    "print(len(df['Order Number']))\n",
    "print(len(df['Order Number'].unique()))"
   ]
  }
 ],
 "metadata": {
  "kernelspec": {
   "display_name": "Python 3",
   "language": "python",
   "name": "python3"
  },
  "language_info": {
   "codemirror_mode": {
    "name": "ipython",
    "version": 3
   },
   "file_extension": ".py",
   "mimetype": "text/x-python",
   "name": "python",
   "nbconvert_exporter": "python",
   "pygments_lexer": "ipython3",
   "version": "3.6.5"
  }
 },
 "nbformat": 4,
 "nbformat_minor": 2
}
