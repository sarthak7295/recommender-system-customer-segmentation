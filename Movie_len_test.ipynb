{
  "nbformat": 4,
  "nbformat_minor": 0,
  "metadata": {
    "colab": {
      "name": "Movie_len test.ipynb",
      "provenance": [],
      "collapsed_sections": []
    },
    "kernelspec": {
      "name": "python3",
      "display_name": "Python 3"
    },
    "accelerator": "GPU"
  },
  "cells": [
    {
      "cell_type": "code",
      "metadata": {
        "colab": {
          "base_uri": "https://localhost:8080/"
        },
        "id": "EVvFASiPd30P",
        "outputId": "b285052d-4bff-46af-ea83-8c1655b87fbd"
      },
      "source": [
        "import pandas as pd\r\n",
        "import numpy as np\r\n",
        "from zipfile import ZipFile\r\n",
        "import tensorflow as tf\r\n",
        "from tensorflow import keras\r\n",
        "from tensorflow.keras import layers\r\n",
        "from pathlib import Path\r\n",
        "import matplotlib.pyplot as plt\r\n",
        "print('Setup done')"
      ],
      "execution_count": 166,
      "outputs": [
        {
          "output_type": "stream",
          "text": [
            "Setup done\n"
          ],
          "name": "stdout"
        }
      ]
    },
    {
      "cell_type": "code",
      "metadata": {
        "colab": {
          "base_uri": "https://localhost:8080/"
        },
        "id": "u-lU34qpOGt4",
        "outputId": "9fd2142b-10cf-4325-ff15-e1448b9f433e"
      },
      "source": [
        "from google.colab import drive\r\n",
        "\r\n",
        "drive.mount('/content/gdrive',force_remount=True)"
      ],
      "execution_count": 184,
      "outputs": [
        {
          "output_type": "stream",
          "text": [
            "Mounted at /content/gdrive\n"
          ],
          "name": "stdout"
        }
      ]
    },
    {
      "cell_type": "code",
      "metadata": {
        "colab": {
          "base_uri": "https://localhost:8080/"
        },
        "id": "eFJj83sOIbgn",
        "outputId": "b4bfb158-984f-44be-eba3-db4d1df7f6e2"
      },
      "source": [
        "df = pd.read_csv('/content/gdrive/MyDrive/sar.csv', sep=',')\r\n",
        "df_client_rfm = pd.read_csv('/content/gdrive/MyDrive/client_rfm.csv', sep=',')\r\n",
        "print(\"dataset Loaded\")"
      ],
      "execution_count": 185,
      "outputs": [
        {
          "output_type": "stream",
          "text": [
            "dataset Loaded\n"
          ],
          "name": "stdout"
        }
      ]
    },
    {
      "cell_type": "code",
      "metadata": {
        "id": "sZO_dyJfH2z2"
      },
      "source": [
        "df_client_rfm = df_client_rfm[['Client','Rank_Recency','Rank_Frequency','Rank_Monetary','Cluster']]"
      ],
      "execution_count": 187,
      "outputs": []
    },
    {
      "cell_type": "code",
      "metadata": {
        "id": "y-ABBGUKRclI"
      },
      "source": [
        "# Download the actual data from http://files.grouplens.org/datasets/movielens/ml-latest-small.zip\"\r\n",
        "# Use the ratings.csv file\r\n",
        "movielens_data_file_url = (\r\n",
        "    \"http://files.grouplens.org/datasets/movielens/ml-latest-small.zip\"\r\n",
        ")\r\n",
        "movielens_zipped_file = keras.utils.get_file(\r\n",
        "    \"ml-latest-small.zip\", movielens_data_file_url, extract=False\r\n",
        ")\r\n",
        "keras_datasets_path = Path(movielens_zipped_file).parents[0]\r\n",
        "movielens_dir = keras_datasets_path / \"ml-latest-small\"\r\n",
        "\r\n",
        "# Only extract the data the first time the script is run.\r\n",
        "if not movielens_dir.exists():\r\n",
        "    with ZipFile(movielens_zipped_file, \"r\") as zip:\r\n",
        "        # Extract files\r\n",
        "        print(\"Extracting all the files now...\")\r\n",
        "        zip.extractall(path=keras_datasets_path)\r\n",
        "        print(\"Done!\")\r\n",
        "\r\n",
        "ratings_file = movielens_dir / \"ratings.csv\"\r\n",
        "ratings = pd.read_csv(ratings_file)\r\n",
        "movies = pd.read_csv(movielens_dir / \"movies.csv\")"
      ],
      "execution_count": 23,
      "outputs": []
    },
    {
      "cell_type": "code",
      "metadata": {
        "colab": {
          "base_uri": "https://localhost:8080/"
        },
        "id": "RULpnoC-Unsf",
        "outputId": "0bc16948-2f3d-40d8-83db-a83d346a47a3"
      },
      "source": [
        "df['ProductId'].nunique()"
      ],
      "execution_count": 123,
      "outputs": [
        {
          "output_type": "execute_result",
          "data": {
            "text/plain": [
              "54708"
            ]
          },
          "metadata": {
            "tags": []
          },
          "execution_count": 123
        }
      ]
    },
    {
      "cell_type": "code",
      "metadata": {
        "colab": {
          "base_uri": "https://localhost:8080/"
        },
        "id": "LzPcnzrWbbSR",
        "outputId": "5717b44f-c7eb-4103-bcf1-6e71180fa68f"
      },
      "source": [
        "df_client_product = df[['Client','ProductId','Rating']].copy()\r\n",
        "df_client_product = pd.merge(df_client_product,df_client_rfm,on='Client',how='left')\r\n",
        "\r\n",
        "df_client_product.drop_duplicates(keep='first',inplace=True,subset=['Client','ProductId']) \r\n",
        "\r\n",
        "\r\n",
        "n_users = df_client_product['Client'].nunique()\r\n",
        "n_users"
      ],
      "execution_count": 189,
      "outputs": [
        {
          "output_type": "execute_result",
          "data": {
            "text/plain": [
              "10816"
            ]
          },
          "metadata": {
            "tags": []
          },
          "execution_count": 189
        }
      ]
    },
    {
      "cell_type": "code",
      "metadata": {
        "colab": {
          "base_uri": "https://localhost:8080/",
          "height": 424
        },
        "id": "AKK9b-aDI9fu",
        "outputId": "bbeb9b82-a10f-491a-e97b-47245f0e33da"
      },
      "source": [
        "df_client_product"
      ],
      "execution_count": 192,
      "outputs": [
        {
          "output_type": "execute_result",
          "data": {
            "text/html": [
              "<div>\n",
              "<style scoped>\n",
              "    .dataframe tbody tr th:only-of-type {\n",
              "        vertical-align: middle;\n",
              "    }\n",
              "\n",
              "    .dataframe tbody tr th {\n",
              "        vertical-align: top;\n",
              "    }\n",
              "\n",
              "    .dataframe thead th {\n",
              "        text-align: right;\n",
              "    }\n",
              "</style>\n",
              "<table border=\"1\" class=\"dataframe\">\n",
              "  <thead>\n",
              "    <tr style=\"text-align: right;\">\n",
              "      <th></th>\n",
              "      <th>Client</th>\n",
              "      <th>ProductId</th>\n",
              "      <th>Rating</th>\n",
              "      <th>Rank_Recency</th>\n",
              "      <th>Rank_Frequency</th>\n",
              "      <th>Rank_Monetary</th>\n",
              "      <th>Cluster</th>\n",
              "    </tr>\n",
              "  </thead>\n",
              "  <tbody>\n",
              "    <tr>\n",
              "      <th>0</th>\n",
              "      <td>Barry Barrett</td>\n",
              "      <td>116945202798</td>\n",
              "      <td>7.5</td>\n",
              "      <td>1736</td>\n",
              "      <td>2000</td>\n",
              "      <td>2000</td>\n",
              "      <td>4</td>\n",
              "    </tr>\n",
              "    <tr>\n",
              "      <th>32</th>\n",
              "      <td>Penny Burns</td>\n",
              "      <td>106945202919</td>\n",
              "      <td>7.5</td>\n",
              "      <td>1170</td>\n",
              "      <td>2000</td>\n",
              "      <td>2000</td>\n",
              "      <td>4</td>\n",
              "    </tr>\n",
              "    <tr>\n",
              "      <th>64</th>\n",
              "      <td>Arthur Mason</td>\n",
              "      <td>64807203169</td>\n",
              "      <td>6.5</td>\n",
              "      <td>2001</td>\n",
              "      <td>2000</td>\n",
              "      <td>2000</td>\n",
              "      <td>4</td>\n",
              "    </tr>\n",
              "    <tr>\n",
              "      <th>96</th>\n",
              "      <td>Barry Barrett</td>\n",
              "      <td>166945203195</td>\n",
              "      <td>7.5</td>\n",
              "      <td>1736</td>\n",
              "      <td>2000</td>\n",
              "      <td>2000</td>\n",
              "      <td>4</td>\n",
              "    </tr>\n",
              "    <tr>\n",
              "      <th>128</th>\n",
              "      <td>Barry Barrett</td>\n",
              "      <td>96945202702</td>\n",
              "      <td>7.5</td>\n",
              "      <td>1736</td>\n",
              "      <td>2000</td>\n",
              "      <td>2000</td>\n",
              "      <td>4</td>\n",
              "    </tr>\n",
              "    <tr>\n",
              "      <th>...</th>\n",
              "      <td>...</td>\n",
              "      <td>...</td>\n",
              "      <td>...</td>\n",
              "      <td>...</td>\n",
              "      <td>...</td>\n",
              "      <td>...</td>\n",
              "      <td>...</td>\n",
              "    </tr>\n",
              "    <tr>\n",
              "      <th>1628892</th>\n",
              "      <td>Darin Todd</td>\n",
              "      <td>33569202865</td>\n",
              "      <td>4.5</td>\n",
              "      <td>1346</td>\n",
              "      <td>1562</td>\n",
              "      <td>1471</td>\n",
              "      <td>4</td>\n",
              "    </tr>\n",
              "    <tr>\n",
              "      <th>1628917</th>\n",
              "      <td>Kent Pittman</td>\n",
              "      <td>33569203104</td>\n",
              "      <td>6.0</td>\n",
              "      <td>1515</td>\n",
              "      <td>1762</td>\n",
              "      <td>1802</td>\n",
              "      <td>4</td>\n",
              "    </tr>\n",
              "    <tr>\n",
              "      <th>1628918</th>\n",
              "      <td>Leona Harrison</td>\n",
              "      <td>4807203450</td>\n",
              "      <td>6.0</td>\n",
              "      <td>1824</td>\n",
              "      <td>1940</td>\n",
              "      <td>1905</td>\n",
              "      <td>4</td>\n",
              "    </tr>\n",
              "    <tr>\n",
              "      <th>1628920</th>\n",
              "      <td>Angelo Wagner</td>\n",
              "      <td>354807203625</td>\n",
              "      <td>5.0</td>\n",
              "      <td>1535</td>\n",
              "      <td>1426</td>\n",
              "      <td>1139</td>\n",
              "      <td>4</td>\n",
              "    </tr>\n",
              "    <tr>\n",
              "      <th>1628921</th>\n",
              "      <td>Felix Daniels</td>\n",
              "      <td>3569202421</td>\n",
              "      <td>3.5</td>\n",
              "      <td>608</td>\n",
              "      <td>1961</td>\n",
              "      <td>1934</td>\n",
              "      <td>3</td>\n",
              "    </tr>\n",
              "  </tbody>\n",
              "</table>\n",
              "<p>503066 rows × 7 columns</p>\n",
              "</div>"
            ],
            "text/plain": [
              "                 Client     ProductId  ...  Rank_Monetary  Cluster\n",
              "0         Barry Barrett  116945202798  ...           2000        4\n",
              "32          Penny Burns  106945202919  ...           2000        4\n",
              "64         Arthur Mason   64807203169  ...           2000        4\n",
              "96        Barry Barrett  166945203195  ...           2000        4\n",
              "128       Barry Barrett   96945202702  ...           2000        4\n",
              "...                 ...           ...  ...            ...      ...\n",
              "1628892      Darin Todd   33569202865  ...           1471        4\n",
              "1628917    Kent Pittman   33569203104  ...           1802        4\n",
              "1628918  Leona Harrison    4807203450  ...           1905        4\n",
              "1628920   Angelo Wagner  354807203625  ...           1139        4\n",
              "1628921   Felix Daniels    3569202421  ...           1934        3\n",
              "\n",
              "[503066 rows x 7 columns]"
            ]
          },
          "metadata": {
            "tags": []
          },
          "execution_count": 192
        }
      ]
    },
    {
      "cell_type": "code",
      "metadata": {
        "colab": {
          "base_uri": "https://localhost:8080/"
        },
        "id": "4XVTttXNboxJ",
        "outputId": "0c72b3f1-f0fb-4de4-8796-579e41ab248e"
      },
      "source": [
        "df_product = df[['ProductId','Product','Product Category','Product Cost']].copy()\r\n",
        "df_product.drop_duplicates(keep='first',inplace=True) \r\n",
        "\r\n",
        "n_prod = df_product['ProductId'].nunique()\r\n",
        "n_prod"
      ],
      "execution_count": 145,
      "outputs": [
        {
          "output_type": "execute_result",
          "data": {
            "text/plain": [
              "54708"
            ]
          },
          "metadata": {
            "tags": []
          },
          "execution_count": 145
        }
      ]
    },
    {
      "cell_type": "code",
      "metadata": {
        "id": "mCd_H3bhfsv3"
      },
      "source": [
        "from sklearn.model_selection import train_test_split\r\n",
        "from sklearn.preprocessing import LabelEncoder\r\n",
        "\r\n",
        "prod_enc = LabelEncoder()\r\n",
        "df_client_product['Client'] = prod_enc.fit_transform(df_client_product['Client'].values)\r\n",
        "\r\n",
        "prod_enc = LabelEncoder()\r\n",
        "df_product['Product'] = prod_enc.fit_transform(df_product['Product'].values)\r\n",
        "\r\n",
        "prod_cat_enc = LabelEncoder()\r\n",
        "df_product['Product Category'] = prod_cat_enc.fit_transform(df_product['Product Category'].values)\r\n",
        "\r\n",
        "prod_id_enc = LabelEncoder()\r\n",
        "df_product['ProductId'] = prod_id_enc.fit_transform(df_product['ProductId'].values)\r\n",
        "df_client_product['ProductId'] = prod_id_enc.transform(df_client_product['ProductId'].values)"
      ],
      "execution_count": 146,
      "outputs": []
    },
    {
      "cell_type": "code",
      "metadata": {
        "id": "7v6zhZxepVn5"
      },
      "source": [
        "train, test = train_test_split(df_client_product, test_size=0.2, random_state=42)"
      ],
      "execution_count": 147,
      "outputs": []
    },
    {
      "cell_type": "code",
      "metadata": {
        "id": "YtpLXVolko_e"
      },
      "source": [
        "from keras.layers import Input, Embedding, Flatten, Dot, Dense,Concatenate\r\n",
        "from keras.models import Model\r\n",
        "\r\n",
        "product_input = Input(shape=[2], name=\"Product-Input\")\r\n",
        "\r\n",
        "product_embedding = Embedding(n_prod+1, 5, name=\"Product-Embedding\")(product_input)\r\n",
        "product_vec = Flatten(name=\"Flatten-Product\")(product_embedding)\r\n",
        "\r\n",
        "user_input = Input(shape=[2], name=\"User-Input\")\r\n",
        "user_embedding = Embedding(n_users+1, 5, name=\"User-Embedding\")(user_input)\r\n",
        "user_vec = Flatten(name=\"Flatten-Users\")(user_embedding)\r\n",
        "# prod = Dot(name=\"Dot-Product\", axes=1)([product_vec, user_vec])\r\n",
        "concatted = Concatenate()([product_vec, user_vec])\r\n",
        "d = Dense(4, kernel_initializer='normal')(concatted)\r\n",
        "out = Dense(1, kernel_initializer='normal')(d)\r\n",
        "model = Model([user_input, product_input], out)\r\n",
        "model.compile('adam', 'mean_squared_error')"
      ],
      "execution_count": 173,
      "outputs": []
    },
    {
      "cell_type": "code",
      "metadata": {
        "colab": {
          "base_uri": "https://localhost:8080/",
          "height": 923
        },
        "id": "MGe3H3-hko-D",
        "outputId": "572368e6-f37f-4c63-be5c-cb0e87fb0f23"
      },
      "source": [
        "history = model.fit([train[['Client','Client']], train[['ProductId','ProductId']]], train['Rating'],validation_data=([test['Client'], test['ProductId']], test['Rating']), epochs=1, verbose=1)\r\n",
        "model.save('regression_model.h5')"
      ],
      "execution_count": 174,
      "outputs": [
        {
          "output_type": "stream",
          "text": [
            "12575/12577 [============================>.] - ETA: 0s - loss: 3.2926WARNING:tensorflow:Model was constructed with shape (None, 2) for input KerasTensor(type_spec=TensorSpec(shape=(None, 2), dtype=tf.float32, name='User-Input'), name='User-Input', description=\"created by layer 'User-Input'\"), but it was called on an input with incompatible shape (None, 1).\n",
            "WARNING:tensorflow:Model was constructed with shape (None, 2) for input KerasTensor(type_spec=TensorSpec(shape=(None, 2), dtype=tf.float32, name='Product-Input'), name='Product-Input', description=\"created by layer 'Product-Input'\"), but it was called on an input with incompatible shape (None, 1).\n"
          ],
          "name": "stdout"
        },
        {
          "output_type": "error",
          "ename": "ValueError",
          "evalue": "ignored",
          "traceback": [
            "\u001b[0;31m---------------------------------------------------------------------------\u001b[0m",
            "\u001b[0;31mValueError\u001b[0m                                Traceback (most recent call last)",
            "\u001b[0;32m<ipython-input-174-1735bde929b8>\u001b[0m in \u001b[0;36m<module>\u001b[0;34m()\u001b[0m\n\u001b[0;32m----> 1\u001b[0;31m \u001b[0mhistory\u001b[0m \u001b[0;34m=\u001b[0m \u001b[0mmodel\u001b[0m\u001b[0;34m.\u001b[0m\u001b[0mfit\u001b[0m\u001b[0;34m(\u001b[0m\u001b[0;34m[\u001b[0m\u001b[0mtrain\u001b[0m\u001b[0;34m[\u001b[0m\u001b[0;34m[\u001b[0m\u001b[0;34m'Client'\u001b[0m\u001b[0;34m,\u001b[0m\u001b[0;34m'Client'\u001b[0m\u001b[0;34m]\u001b[0m\u001b[0;34m]\u001b[0m\u001b[0;34m,\u001b[0m \u001b[0mtrain\u001b[0m\u001b[0;34m[\u001b[0m\u001b[0;34m[\u001b[0m\u001b[0;34m'ProductId'\u001b[0m\u001b[0;34m,\u001b[0m\u001b[0;34m'ProductId'\u001b[0m\u001b[0;34m]\u001b[0m\u001b[0;34m]\u001b[0m\u001b[0;34m]\u001b[0m\u001b[0;34m,\u001b[0m \u001b[0mtrain\u001b[0m\u001b[0;34m[\u001b[0m\u001b[0;34m'Rating'\u001b[0m\u001b[0;34m]\u001b[0m\u001b[0;34m,\u001b[0m\u001b[0mvalidation_data\u001b[0m\u001b[0;34m=\u001b[0m\u001b[0;34m(\u001b[0m\u001b[0;34m[\u001b[0m\u001b[0mtest\u001b[0m\u001b[0;34m[\u001b[0m\u001b[0;34m'Client'\u001b[0m\u001b[0;34m]\u001b[0m\u001b[0;34m,\u001b[0m \u001b[0mtest\u001b[0m\u001b[0;34m[\u001b[0m\u001b[0;34m'ProductId'\u001b[0m\u001b[0;34m]\u001b[0m\u001b[0;34m]\u001b[0m\u001b[0;34m,\u001b[0m \u001b[0mtest\u001b[0m\u001b[0;34m[\u001b[0m\u001b[0;34m'Rating'\u001b[0m\u001b[0;34m]\u001b[0m\u001b[0;34m)\u001b[0m\u001b[0;34m,\u001b[0m \u001b[0mepochs\u001b[0m\u001b[0;34m=\u001b[0m\u001b[0;36m1\u001b[0m\u001b[0;34m,\u001b[0m \u001b[0mverbose\u001b[0m\u001b[0;34m=\u001b[0m\u001b[0;36m1\u001b[0m\u001b[0;34m)\u001b[0m\u001b[0;34m\u001b[0m\u001b[0;34m\u001b[0m\u001b[0m\n\u001b[0m\u001b[1;32m      2\u001b[0m \u001b[0mmodel\u001b[0m\u001b[0;34m.\u001b[0m\u001b[0msave\u001b[0m\u001b[0;34m(\u001b[0m\u001b[0;34m'regression_model.h5'\u001b[0m\u001b[0;34m)\u001b[0m\u001b[0;34m\u001b[0m\u001b[0;34m\u001b[0m\u001b[0m\n",
            "\u001b[0;32m/usr/local/lib/python3.6/dist-packages/tensorflow/python/keras/engine/training.py\u001b[0m in \u001b[0;36mfit\u001b[0;34m(self, x, y, batch_size, epochs, verbose, callbacks, validation_split, validation_data, shuffle, class_weight, sample_weight, initial_epoch, steps_per_epoch, validation_steps, validation_batch_size, validation_freq, max_queue_size, workers, use_multiprocessing)\u001b[0m\n\u001b[1;32m   1139\u001b[0m               \u001b[0mworkers\u001b[0m\u001b[0;34m=\u001b[0m\u001b[0mworkers\u001b[0m\u001b[0;34m,\u001b[0m\u001b[0;34m\u001b[0m\u001b[0;34m\u001b[0m\u001b[0m\n\u001b[1;32m   1140\u001b[0m               \u001b[0muse_multiprocessing\u001b[0m\u001b[0;34m=\u001b[0m\u001b[0muse_multiprocessing\u001b[0m\u001b[0;34m,\u001b[0m\u001b[0;34m\u001b[0m\u001b[0;34m\u001b[0m\u001b[0m\n\u001b[0;32m-> 1141\u001b[0;31m               return_dict=True)\n\u001b[0m\u001b[1;32m   1142\u001b[0m           \u001b[0mval_logs\u001b[0m \u001b[0;34m=\u001b[0m \u001b[0;34m{\u001b[0m\u001b[0;34m'val_'\u001b[0m \u001b[0;34m+\u001b[0m \u001b[0mname\u001b[0m\u001b[0;34m:\u001b[0m \u001b[0mval\u001b[0m \u001b[0;32mfor\u001b[0m \u001b[0mname\u001b[0m\u001b[0;34m,\u001b[0m \u001b[0mval\u001b[0m \u001b[0;32min\u001b[0m \u001b[0mval_logs\u001b[0m\u001b[0;34m.\u001b[0m\u001b[0mitems\u001b[0m\u001b[0;34m(\u001b[0m\u001b[0;34m)\u001b[0m\u001b[0;34m}\u001b[0m\u001b[0;34m\u001b[0m\u001b[0;34m\u001b[0m\u001b[0m\n\u001b[1;32m   1143\u001b[0m           \u001b[0mepoch_logs\u001b[0m\u001b[0;34m.\u001b[0m\u001b[0mupdate\u001b[0m\u001b[0;34m(\u001b[0m\u001b[0mval_logs\u001b[0m\u001b[0;34m)\u001b[0m\u001b[0;34m\u001b[0m\u001b[0;34m\u001b[0m\u001b[0m\n",
            "\u001b[0;32m/usr/local/lib/python3.6/dist-packages/tensorflow/python/keras/engine/training.py\u001b[0m in \u001b[0;36mevaluate\u001b[0;34m(self, x, y, batch_size, verbose, sample_weight, steps, callbacks, max_queue_size, workers, use_multiprocessing, return_dict)\u001b[0m\n\u001b[1;32m   1387\u001b[0m             \u001b[0;32mwith\u001b[0m \u001b[0mtrace\u001b[0m\u001b[0;34m.\u001b[0m\u001b[0mTrace\u001b[0m\u001b[0;34m(\u001b[0m\u001b[0;34m'test'\u001b[0m\u001b[0;34m,\u001b[0m \u001b[0mstep_num\u001b[0m\u001b[0;34m=\u001b[0m\u001b[0mstep\u001b[0m\u001b[0;34m,\u001b[0m \u001b[0m_r\u001b[0m\u001b[0;34m=\u001b[0m\u001b[0;36m1\u001b[0m\u001b[0;34m)\u001b[0m\u001b[0;34m:\u001b[0m\u001b[0;34m\u001b[0m\u001b[0;34m\u001b[0m\u001b[0m\n\u001b[1;32m   1388\u001b[0m               \u001b[0mcallbacks\u001b[0m\u001b[0;34m.\u001b[0m\u001b[0mon_test_batch_begin\u001b[0m\u001b[0;34m(\u001b[0m\u001b[0mstep\u001b[0m\u001b[0;34m)\u001b[0m\u001b[0;34m\u001b[0m\u001b[0;34m\u001b[0m\u001b[0m\n\u001b[0;32m-> 1389\u001b[0;31m               \u001b[0mtmp_logs\u001b[0m \u001b[0;34m=\u001b[0m \u001b[0mself\u001b[0m\u001b[0;34m.\u001b[0m\u001b[0mtest_function\u001b[0m\u001b[0;34m(\u001b[0m\u001b[0miterator\u001b[0m\u001b[0;34m)\u001b[0m\u001b[0;34m\u001b[0m\u001b[0;34m\u001b[0m\u001b[0m\n\u001b[0m\u001b[1;32m   1390\u001b[0m               \u001b[0;32mif\u001b[0m \u001b[0mdata_handler\u001b[0m\u001b[0;34m.\u001b[0m\u001b[0mshould_sync\u001b[0m\u001b[0;34m:\u001b[0m\u001b[0;34m\u001b[0m\u001b[0;34m\u001b[0m\u001b[0m\n\u001b[1;32m   1391\u001b[0m                 \u001b[0mcontext\u001b[0m\u001b[0;34m.\u001b[0m\u001b[0masync_wait\u001b[0m\u001b[0;34m(\u001b[0m\u001b[0;34m)\u001b[0m\u001b[0;34m\u001b[0m\u001b[0;34m\u001b[0m\u001b[0m\n",
            "\u001b[0;32m/usr/local/lib/python3.6/dist-packages/tensorflow/python/eager/def_function.py\u001b[0m in \u001b[0;36m__call__\u001b[0;34m(self, *args, **kwds)\u001b[0m\n\u001b[1;32m    826\u001b[0m     \u001b[0mtracing_count\u001b[0m \u001b[0;34m=\u001b[0m \u001b[0mself\u001b[0m\u001b[0;34m.\u001b[0m\u001b[0mexperimental_get_tracing_count\u001b[0m\u001b[0;34m(\u001b[0m\u001b[0;34m)\u001b[0m\u001b[0;34m\u001b[0m\u001b[0;34m\u001b[0m\u001b[0m\n\u001b[1;32m    827\u001b[0m     \u001b[0;32mwith\u001b[0m \u001b[0mtrace\u001b[0m\u001b[0;34m.\u001b[0m\u001b[0mTrace\u001b[0m\u001b[0;34m(\u001b[0m\u001b[0mself\u001b[0m\u001b[0;34m.\u001b[0m\u001b[0m_name\u001b[0m\u001b[0;34m)\u001b[0m \u001b[0;32mas\u001b[0m \u001b[0mtm\u001b[0m\u001b[0;34m:\u001b[0m\u001b[0;34m\u001b[0m\u001b[0;34m\u001b[0m\u001b[0m\n\u001b[0;32m--> 828\u001b[0;31m       \u001b[0mresult\u001b[0m \u001b[0;34m=\u001b[0m \u001b[0mself\u001b[0m\u001b[0;34m.\u001b[0m\u001b[0m_call\u001b[0m\u001b[0;34m(\u001b[0m\u001b[0;34m*\u001b[0m\u001b[0margs\u001b[0m\u001b[0;34m,\u001b[0m \u001b[0;34m**\u001b[0m\u001b[0mkwds\u001b[0m\u001b[0;34m)\u001b[0m\u001b[0;34m\u001b[0m\u001b[0;34m\u001b[0m\u001b[0m\n\u001b[0m\u001b[1;32m    829\u001b[0m       \u001b[0mcompiler\u001b[0m \u001b[0;34m=\u001b[0m \u001b[0;34m\"xla\"\u001b[0m \u001b[0;32mif\u001b[0m \u001b[0mself\u001b[0m\u001b[0;34m.\u001b[0m\u001b[0m_experimental_compile\u001b[0m \u001b[0;32melse\u001b[0m \u001b[0;34m\"nonXla\"\u001b[0m\u001b[0;34m\u001b[0m\u001b[0;34m\u001b[0m\u001b[0m\n\u001b[1;32m    830\u001b[0m       \u001b[0mnew_tracing_count\u001b[0m \u001b[0;34m=\u001b[0m \u001b[0mself\u001b[0m\u001b[0;34m.\u001b[0m\u001b[0mexperimental_get_tracing_count\u001b[0m\u001b[0;34m(\u001b[0m\u001b[0;34m)\u001b[0m\u001b[0;34m\u001b[0m\u001b[0;34m\u001b[0m\u001b[0m\n",
            "\u001b[0;32m/usr/local/lib/python3.6/dist-packages/tensorflow/python/eager/def_function.py\u001b[0m in \u001b[0;36m_call\u001b[0;34m(self, *args, **kwds)\u001b[0m\n\u001b[1;32m    869\u001b[0m       \u001b[0;31m# This is the first call of __call__, so we have to initialize.\u001b[0m\u001b[0;34m\u001b[0m\u001b[0;34m\u001b[0m\u001b[0;34m\u001b[0m\u001b[0m\n\u001b[1;32m    870\u001b[0m       \u001b[0minitializers\u001b[0m \u001b[0;34m=\u001b[0m \u001b[0;34m[\u001b[0m\u001b[0;34m]\u001b[0m\u001b[0;34m\u001b[0m\u001b[0;34m\u001b[0m\u001b[0m\n\u001b[0;32m--> 871\u001b[0;31m       \u001b[0mself\u001b[0m\u001b[0;34m.\u001b[0m\u001b[0m_initialize\u001b[0m\u001b[0;34m(\u001b[0m\u001b[0margs\u001b[0m\u001b[0;34m,\u001b[0m \u001b[0mkwds\u001b[0m\u001b[0;34m,\u001b[0m \u001b[0madd_initializers_to\u001b[0m\u001b[0;34m=\u001b[0m\u001b[0minitializers\u001b[0m\u001b[0;34m)\u001b[0m\u001b[0;34m\u001b[0m\u001b[0;34m\u001b[0m\u001b[0m\n\u001b[0m\u001b[1;32m    872\u001b[0m     \u001b[0;32mfinally\u001b[0m\u001b[0;34m:\u001b[0m\u001b[0;34m\u001b[0m\u001b[0;34m\u001b[0m\u001b[0m\n\u001b[1;32m    873\u001b[0m       \u001b[0;31m# At this point we know that the initialization is complete (or less\u001b[0m\u001b[0;34m\u001b[0m\u001b[0;34m\u001b[0m\u001b[0;34m\u001b[0m\u001b[0m\n",
            "\u001b[0;32m/usr/local/lib/python3.6/dist-packages/tensorflow/python/eager/def_function.py\u001b[0m in \u001b[0;36m_initialize\u001b[0;34m(self, args, kwds, add_initializers_to)\u001b[0m\n\u001b[1;32m    724\u001b[0m     self._concrete_stateful_fn = (\n\u001b[1;32m    725\u001b[0m         self._stateful_fn._get_concrete_function_internal_garbage_collected(  # pylint: disable=protected-access\n\u001b[0;32m--> 726\u001b[0;31m             *args, **kwds))\n\u001b[0m\u001b[1;32m    727\u001b[0m \u001b[0;34m\u001b[0m\u001b[0m\n\u001b[1;32m    728\u001b[0m     \u001b[0;32mdef\u001b[0m \u001b[0minvalid_creator_scope\u001b[0m\u001b[0;34m(\u001b[0m\u001b[0;34m*\u001b[0m\u001b[0munused_args\u001b[0m\u001b[0;34m,\u001b[0m \u001b[0;34m**\u001b[0m\u001b[0munused_kwds\u001b[0m\u001b[0;34m)\u001b[0m\u001b[0;34m:\u001b[0m\u001b[0;34m\u001b[0m\u001b[0;34m\u001b[0m\u001b[0m\n",
            "\u001b[0;32m/usr/local/lib/python3.6/dist-packages/tensorflow/python/eager/function.py\u001b[0m in \u001b[0;36m_get_concrete_function_internal_garbage_collected\u001b[0;34m(self, *args, **kwargs)\u001b[0m\n\u001b[1;32m   2967\u001b[0m       \u001b[0margs\u001b[0m\u001b[0;34m,\u001b[0m \u001b[0mkwargs\u001b[0m \u001b[0;34m=\u001b[0m \u001b[0;32mNone\u001b[0m\u001b[0;34m,\u001b[0m \u001b[0;32mNone\u001b[0m\u001b[0;34m\u001b[0m\u001b[0;34m\u001b[0m\u001b[0m\n\u001b[1;32m   2968\u001b[0m     \u001b[0;32mwith\u001b[0m \u001b[0mself\u001b[0m\u001b[0;34m.\u001b[0m\u001b[0m_lock\u001b[0m\u001b[0;34m:\u001b[0m\u001b[0;34m\u001b[0m\u001b[0;34m\u001b[0m\u001b[0m\n\u001b[0;32m-> 2969\u001b[0;31m       \u001b[0mgraph_function\u001b[0m\u001b[0;34m,\u001b[0m \u001b[0m_\u001b[0m \u001b[0;34m=\u001b[0m \u001b[0mself\u001b[0m\u001b[0;34m.\u001b[0m\u001b[0m_maybe_define_function\u001b[0m\u001b[0;34m(\u001b[0m\u001b[0margs\u001b[0m\u001b[0;34m,\u001b[0m \u001b[0mkwargs\u001b[0m\u001b[0;34m)\u001b[0m\u001b[0;34m\u001b[0m\u001b[0;34m\u001b[0m\u001b[0m\n\u001b[0m\u001b[1;32m   2970\u001b[0m     \u001b[0;32mreturn\u001b[0m \u001b[0mgraph_function\u001b[0m\u001b[0;34m\u001b[0m\u001b[0;34m\u001b[0m\u001b[0m\n\u001b[1;32m   2971\u001b[0m \u001b[0;34m\u001b[0m\u001b[0m\n",
            "\u001b[0;32m/usr/local/lib/python3.6/dist-packages/tensorflow/python/eager/function.py\u001b[0m in \u001b[0;36m_maybe_define_function\u001b[0;34m(self, args, kwargs)\u001b[0m\n\u001b[1;32m   3359\u001b[0m \u001b[0;34m\u001b[0m\u001b[0m\n\u001b[1;32m   3360\u001b[0m           \u001b[0mself\u001b[0m\u001b[0;34m.\u001b[0m\u001b[0m_function_cache\u001b[0m\u001b[0;34m.\u001b[0m\u001b[0mmissed\u001b[0m\u001b[0;34m.\u001b[0m\u001b[0madd\u001b[0m\u001b[0;34m(\u001b[0m\u001b[0mcall_context_key\u001b[0m\u001b[0;34m)\u001b[0m\u001b[0;34m\u001b[0m\u001b[0;34m\u001b[0m\u001b[0m\n\u001b[0;32m-> 3361\u001b[0;31m           \u001b[0mgraph_function\u001b[0m \u001b[0;34m=\u001b[0m \u001b[0mself\u001b[0m\u001b[0;34m.\u001b[0m\u001b[0m_create_graph_function\u001b[0m\u001b[0;34m(\u001b[0m\u001b[0margs\u001b[0m\u001b[0;34m,\u001b[0m \u001b[0mkwargs\u001b[0m\u001b[0;34m)\u001b[0m\u001b[0;34m\u001b[0m\u001b[0;34m\u001b[0m\u001b[0m\n\u001b[0m\u001b[1;32m   3362\u001b[0m           \u001b[0mself\u001b[0m\u001b[0;34m.\u001b[0m\u001b[0m_function_cache\u001b[0m\u001b[0;34m.\u001b[0m\u001b[0mprimary\u001b[0m\u001b[0;34m[\u001b[0m\u001b[0mcache_key\u001b[0m\u001b[0;34m]\u001b[0m \u001b[0;34m=\u001b[0m \u001b[0mgraph_function\u001b[0m\u001b[0;34m\u001b[0m\u001b[0;34m\u001b[0m\u001b[0m\n\u001b[1;32m   3363\u001b[0m \u001b[0;34m\u001b[0m\u001b[0m\n",
            "\u001b[0;32m/usr/local/lib/python3.6/dist-packages/tensorflow/python/eager/function.py\u001b[0m in \u001b[0;36m_create_graph_function\u001b[0;34m(self, args, kwargs, override_flat_arg_shapes)\u001b[0m\n\u001b[1;32m   3204\u001b[0m             \u001b[0marg_names\u001b[0m\u001b[0;34m=\u001b[0m\u001b[0marg_names\u001b[0m\u001b[0;34m,\u001b[0m\u001b[0;34m\u001b[0m\u001b[0;34m\u001b[0m\u001b[0m\n\u001b[1;32m   3205\u001b[0m             \u001b[0moverride_flat_arg_shapes\u001b[0m\u001b[0;34m=\u001b[0m\u001b[0moverride_flat_arg_shapes\u001b[0m\u001b[0;34m,\u001b[0m\u001b[0;34m\u001b[0m\u001b[0;34m\u001b[0m\u001b[0m\n\u001b[0;32m-> 3206\u001b[0;31m             capture_by_value=self._capture_by_value),\n\u001b[0m\u001b[1;32m   3207\u001b[0m         \u001b[0mself\u001b[0m\u001b[0;34m.\u001b[0m\u001b[0m_function_attributes\u001b[0m\u001b[0;34m,\u001b[0m\u001b[0;34m\u001b[0m\u001b[0;34m\u001b[0m\u001b[0m\n\u001b[1;32m   3208\u001b[0m         \u001b[0mfunction_spec\u001b[0m\u001b[0;34m=\u001b[0m\u001b[0mself\u001b[0m\u001b[0;34m.\u001b[0m\u001b[0mfunction_spec\u001b[0m\u001b[0;34m,\u001b[0m\u001b[0;34m\u001b[0m\u001b[0;34m\u001b[0m\u001b[0m\n",
            "\u001b[0;32m/usr/local/lib/python3.6/dist-packages/tensorflow/python/framework/func_graph.py\u001b[0m in \u001b[0;36mfunc_graph_from_py_func\u001b[0;34m(name, python_func, args, kwargs, signature, func_graph, autograph, autograph_options, add_control_dependencies, arg_names, op_return_value, collections, capture_by_value, override_flat_arg_shapes)\u001b[0m\n\u001b[1;32m    988\u001b[0m         \u001b[0m_\u001b[0m\u001b[0;34m,\u001b[0m \u001b[0moriginal_func\u001b[0m \u001b[0;34m=\u001b[0m \u001b[0mtf_decorator\u001b[0m\u001b[0;34m.\u001b[0m\u001b[0munwrap\u001b[0m\u001b[0;34m(\u001b[0m\u001b[0mpython_func\u001b[0m\u001b[0;34m)\u001b[0m\u001b[0;34m\u001b[0m\u001b[0;34m\u001b[0m\u001b[0m\n\u001b[1;32m    989\u001b[0m \u001b[0;34m\u001b[0m\u001b[0m\n\u001b[0;32m--> 990\u001b[0;31m       \u001b[0mfunc_outputs\u001b[0m \u001b[0;34m=\u001b[0m \u001b[0mpython_func\u001b[0m\u001b[0;34m(\u001b[0m\u001b[0;34m*\u001b[0m\u001b[0mfunc_args\u001b[0m\u001b[0;34m,\u001b[0m \u001b[0;34m**\u001b[0m\u001b[0mfunc_kwargs\u001b[0m\u001b[0;34m)\u001b[0m\u001b[0;34m\u001b[0m\u001b[0;34m\u001b[0m\u001b[0m\n\u001b[0m\u001b[1;32m    991\u001b[0m \u001b[0;34m\u001b[0m\u001b[0m\n\u001b[1;32m    992\u001b[0m       \u001b[0;31m# invariant: `func_outputs` contains only Tensors, CompositeTensors,\u001b[0m\u001b[0;34m\u001b[0m\u001b[0;34m\u001b[0m\u001b[0;34m\u001b[0m\u001b[0m\n",
            "\u001b[0;32m/usr/local/lib/python3.6/dist-packages/tensorflow/python/eager/def_function.py\u001b[0m in \u001b[0;36mwrapped_fn\u001b[0;34m(*args, **kwds)\u001b[0m\n\u001b[1;32m    632\u001b[0m             \u001b[0mxla_context\u001b[0m\u001b[0;34m.\u001b[0m\u001b[0mExit\u001b[0m\u001b[0;34m(\u001b[0m\u001b[0;34m)\u001b[0m\u001b[0;34m\u001b[0m\u001b[0;34m\u001b[0m\u001b[0m\n\u001b[1;32m    633\u001b[0m         \u001b[0;32melse\u001b[0m\u001b[0;34m:\u001b[0m\u001b[0;34m\u001b[0m\u001b[0;34m\u001b[0m\u001b[0m\n\u001b[0;32m--> 634\u001b[0;31m           \u001b[0mout\u001b[0m \u001b[0;34m=\u001b[0m \u001b[0mweak_wrapped_fn\u001b[0m\u001b[0;34m(\u001b[0m\u001b[0;34m)\u001b[0m\u001b[0;34m.\u001b[0m\u001b[0m__wrapped__\u001b[0m\u001b[0;34m(\u001b[0m\u001b[0;34m*\u001b[0m\u001b[0margs\u001b[0m\u001b[0;34m,\u001b[0m \u001b[0;34m**\u001b[0m\u001b[0mkwds\u001b[0m\u001b[0;34m)\u001b[0m\u001b[0;34m\u001b[0m\u001b[0;34m\u001b[0m\u001b[0m\n\u001b[0m\u001b[1;32m    635\u001b[0m         \u001b[0;32mreturn\u001b[0m \u001b[0mout\u001b[0m\u001b[0;34m\u001b[0m\u001b[0;34m\u001b[0m\u001b[0m\n\u001b[1;32m    636\u001b[0m \u001b[0;34m\u001b[0m\u001b[0m\n",
            "\u001b[0;32m/usr/local/lib/python3.6/dist-packages/tensorflow/python/framework/func_graph.py\u001b[0m in \u001b[0;36mwrapper\u001b[0;34m(*args, **kwargs)\u001b[0m\n\u001b[1;32m    975\u001b[0m           \u001b[0;32mexcept\u001b[0m \u001b[0mException\u001b[0m \u001b[0;32mas\u001b[0m \u001b[0me\u001b[0m\u001b[0;34m:\u001b[0m  \u001b[0;31m# pylint:disable=broad-except\u001b[0m\u001b[0;34m\u001b[0m\u001b[0;34m\u001b[0m\u001b[0m\n\u001b[1;32m    976\u001b[0m             \u001b[0;32mif\u001b[0m \u001b[0mhasattr\u001b[0m\u001b[0;34m(\u001b[0m\u001b[0me\u001b[0m\u001b[0;34m,\u001b[0m \u001b[0;34m\"ag_error_metadata\"\u001b[0m\u001b[0;34m)\u001b[0m\u001b[0;34m:\u001b[0m\u001b[0;34m\u001b[0m\u001b[0;34m\u001b[0m\u001b[0m\n\u001b[0;32m--> 977\u001b[0;31m               \u001b[0;32mraise\u001b[0m \u001b[0me\u001b[0m\u001b[0;34m.\u001b[0m\u001b[0mag_error_metadata\u001b[0m\u001b[0;34m.\u001b[0m\u001b[0mto_exception\u001b[0m\u001b[0;34m(\u001b[0m\u001b[0me\u001b[0m\u001b[0;34m)\u001b[0m\u001b[0;34m\u001b[0m\u001b[0;34m\u001b[0m\u001b[0m\n\u001b[0m\u001b[1;32m    978\u001b[0m             \u001b[0;32melse\u001b[0m\u001b[0;34m:\u001b[0m\u001b[0;34m\u001b[0m\u001b[0;34m\u001b[0m\u001b[0m\n\u001b[1;32m    979\u001b[0m               \u001b[0;32mraise\u001b[0m\u001b[0;34m\u001b[0m\u001b[0;34m\u001b[0m\u001b[0m\n",
            "\u001b[0;31mValueError\u001b[0m: in user code:\n\n    /usr/local/lib/python3.6/dist-packages/tensorflow/python/keras/engine/training.py:1233 test_function  *\n        return step_function(self, iterator)\n    /usr/local/lib/python3.6/dist-packages/tensorflow/python/keras/engine/training.py:1224 step_function  **\n        outputs = model.distribute_strategy.run(run_step, args=(data,))\n    /usr/local/lib/python3.6/dist-packages/tensorflow/python/distribute/distribute_lib.py:1259 run\n        return self._extended.call_for_each_replica(fn, args=args, kwargs=kwargs)\n    /usr/local/lib/python3.6/dist-packages/tensorflow/python/distribute/distribute_lib.py:2730 call_for_each_replica\n        return self._call_for_each_replica(fn, args, kwargs)\n    /usr/local/lib/python3.6/dist-packages/tensorflow/python/distribute/distribute_lib.py:3417 _call_for_each_replica\n        return fn(*args, **kwargs)\n    /usr/local/lib/python3.6/dist-packages/tensorflow/python/keras/engine/training.py:1217 run_step  **\n        outputs = model.test_step(data)\n    /usr/local/lib/python3.6/dist-packages/tensorflow/python/keras/engine/training.py:1183 test_step\n        y_pred = self(x, training=False)\n    /usr/local/lib/python3.6/dist-packages/tensorflow/python/keras/engine/base_layer.py:1012 __call__\n        outputs = call_fn(inputs, *args, **kwargs)\n    /usr/local/lib/python3.6/dist-packages/tensorflow/python/keras/engine/functional.py:425 call\n        inputs, training=training, mask=mask)\n    /usr/local/lib/python3.6/dist-packages/tensorflow/python/keras/engine/functional.py:560 _run_internal_graph\n        outputs = node.layer(*args, **kwargs)\n    /usr/local/lib/python3.6/dist-packages/tensorflow/python/keras/engine/base_layer.py:998 __call__\n        input_spec.assert_input_compatibility(self.input_spec, inputs, self.name)\n    /usr/local/lib/python3.6/dist-packages/tensorflow/python/keras/engine/input_spec.py:259 assert_input_compatibility\n        ' but received input with shape ' + display_shape(x.shape))\n\n    ValueError: Input 0 of layer dense_10 is incompatible with the layer: expected axis -1 of input shape to have value 20 but received input with shape (None, 10)\n"
          ]
        }
      ]
    },
    {
      "cell_type": "code",
      "metadata": {
        "id": "k3rcyhB-UqoX"
      },
      "source": [
        "df = df.drop(['Company Code','Order Number','Product Cost','Amount','Discount Amount','Client City','Total','Date','Rating_rf','Rating_Cust','Form of payment'],axis=1)"
      ],
      "execution_count": 43,
      "outputs": []
    },
    {
      "cell_type": "code",
      "metadata": {
        "colab": {
          "base_uri": "https://localhost:8080/",
          "height": 424
        },
        "id": "pKN4gkQ0ioi_",
        "outputId": "2e131c01-62ff-44df-f8ad-dff2b0d99517"
      },
      "source": [
        "df_product"
      ],
      "execution_count": 66,
      "outputs": [
        {
          "output_type": "execute_result",
          "data": {
            "text/html": [
              "<div>\n",
              "<style scoped>\n",
              "    .dataframe tbody tr th:only-of-type {\n",
              "        vertical-align: middle;\n",
              "    }\n",
              "\n",
              "    .dataframe tbody tr th {\n",
              "        vertical-align: top;\n",
              "    }\n",
              "\n",
              "    .dataframe thead th {\n",
              "        text-align: right;\n",
              "    }\n",
              "</style>\n",
              "<table border=\"1\" class=\"dataframe\">\n",
              "  <thead>\n",
              "    <tr style=\"text-align: right;\">\n",
              "      <th></th>\n",
              "      <th>ProductId</th>\n",
              "      <th>Product</th>\n",
              "      <th>Product Category</th>\n",
              "      <th>Product Cost</th>\n",
              "    </tr>\n",
              "  </thead>\n",
              "  <tbody>\n",
              "    <tr>\n",
              "      <th>65504</th>\n",
              "      <td>1028714901</td>\n",
              "      <td>Additives And Fluids 2116</td>\n",
              "      <td>Additives And Fluids</td>\n",
              "      <td>4.935</td>\n",
              "    </tr>\n",
              "    <tr>\n",
              "      <th>92672</th>\n",
              "      <td>856702313963</td>\n",
              "      <td>Lubricant 403</td>\n",
              "      <td>Lubricant</td>\n",
              "      <td>14.986</td>\n",
              "    </tr>\n",
              "    <tr>\n",
              "      <th>122112</th>\n",
              "      <td>154842314889</td>\n",
              "      <td>Lubricant 1249</td>\n",
              "      <td>Lubricant</td>\n",
              "      <td>16.260</td>\n",
              "    </tr>\n",
              "    <tr>\n",
              "      <th>127744</th>\n",
              "      <td>114673194655</td>\n",
              "      <td>Flavoring 2582</td>\n",
              "      <td>Flavoring</td>\n",
              "      <td>4.689</td>\n",
              "    </tr>\n",
              "    <tr>\n",
              "      <th>132896</th>\n",
              "      <td>395622233968</td>\n",
              "      <td>Lubricant 3487</td>\n",
              "      <td>Lubricant</td>\n",
              "      <td>4.000</td>\n",
              "    </tr>\n",
              "    <tr>\n",
              "      <th>...</th>\n",
              "      <td>...</td>\n",
              "      <td>...</td>\n",
              "      <td>...</td>\n",
              "      <td>...</td>\n",
              "    </tr>\n",
              "    <tr>\n",
              "      <th>1628066</th>\n",
              "      <td>855982317279</td>\n",
              "      <td>Lubricant 3204</td>\n",
              "      <td>Lubricant</td>\n",
              "      <td>20.040</td>\n",
              "    </tr>\n",
              "    <tr>\n",
              "      <th>1628129</th>\n",
              "      <td>426391302668</td>\n",
              "      <td>Popsicle And Ice Creams 85</td>\n",
              "      <td>Popsicle And Ice Creams</td>\n",
              "      <td>2.700</td>\n",
              "    </tr>\n",
              "    <tr>\n",
              "      <th>1628472</th>\n",
              "      <td>64966224634</td>\n",
              "      <td>Juices And Soft Drinks 1089</td>\n",
              "      <td>Juices And Soft Drinks</td>\n",
              "      <td>4.668</td>\n",
              "    </tr>\n",
              "    <tr>\n",
              "      <th>1628748</th>\n",
              "      <td>435218222861</td>\n",
              "      <td>Juices And Soft Drinks 287</td>\n",
              "      <td>Juices And Soft Drinks</td>\n",
              "      <td>2.893</td>\n",
              "    </tr>\n",
              "    <tr>\n",
              "      <th>1628801</th>\n",
              "      <td>1847191911647</td>\n",
              "      <td>Flavoring 3444</td>\n",
              "      <td>Flavoring</td>\n",
              "      <td>11.963</td>\n",
              "    </tr>\n",
              "  </tbody>\n",
              "</table>\n",
              "<p>14213 rows × 4 columns</p>\n",
              "</div>"
            ],
            "text/plain": [
              "             ProductId  ... Product Cost\n",
              "65504       1028714901  ...        4.935\n",
              "92672     856702313963  ...       14.986\n",
              "122112    154842314889  ...       16.260\n",
              "127744    114673194655  ...        4.689\n",
              "132896    395622233968  ...        4.000\n",
              "...                ...  ...          ...\n",
              "1628066   855982317279  ...       20.040\n",
              "1628129   426391302668  ...        2.700\n",
              "1628472    64966224634  ...        4.668\n",
              "1628748   435218222861  ...        2.893\n",
              "1628801  1847191911647  ...       11.963\n",
              "\n",
              "[14213 rows x 4 columns]"
            ]
          },
          "metadata": {
            "tags": []
          },
          "execution_count": 66
        }
      ]
    },
    {
      "cell_type": "code",
      "metadata": {
        "colab": {
          "base_uri": "https://localhost:8080/"
        },
        "id": "JZ0TfPtLeQsK",
        "outputId": "2890edcf-ef48-490d-f24b-e299dbb654a5"
      },
      "source": [
        "user_ids = df[\"userId\"].unique().tolist()\r\n",
        "user2user_encoded = {x: i for i, x in enumerate(user_ids)}\r\n",
        "userencoded2user = {i: x for i, x in enumerate(user_ids)}\r\n",
        "movie_ids = df[\"movieId\"].unique().tolist()\r\n",
        "movie2movie_encoded = {x: i for i, x in enumerate(movie_ids)}\r\n",
        "movie_encoded2movie = {i: x for i, x in enumerate(movie_ids)}\r\n",
        "df[\"user\"] = df[\"userId\"].map(user2user_encoded)\r\n",
        "df[\"movie\"] = df[\"movieId\"].map(movie2movie_encoded)\r\n",
        "\r\n",
        "num_users = len(user2user_encoded)\r\n",
        "num_movies = len(movie_encoded2movie)\r\n",
        "df[\"rating\"] = df[\"rating\"].values.astype(np.float32)\r\n",
        "# min and max ratings will be used to normalize the ratings later\r\n",
        "min_rating = min(df[\"rating\"])\r\n",
        "max_rating = max(df[\"rating\"])\r\n",
        "\r\n",
        "print(\r\n",
        "    \"Number of users: {}, Number of Movies: {}, Min rating: {}, Max rating: {}\".format(\r\n",
        "        num_users, num_movies, min_rating, max_rating\r\n",
        "    )\r\n",
        ")\r\n"
      ],
      "execution_count": 3,
      "outputs": [
        {
          "output_type": "stream",
          "text": [
            "Number of users: 610, Number of Movies: 9724, Min rating: 0.5, Max rating: 5.0\n"
          ],
          "name": "stdout"
        }
      ]
    },
    {
      "cell_type": "code",
      "metadata": {
        "id": "4LblycfJGIyQ"
      },
      "source": [
        "df = df.sample(frac=1, random_state=42)\r\n",
        "x = df[[\"user\", \"movie\"]].values\r\n",
        "# Normalize the targets between 0 and 1. Makes it easy to train.\r\n",
        "y = df[\"rating\"].apply(lambda x: (x - min_rating) / (max_rating - min_rating)).values\r\n",
        "# Assuming training on 90% of the data and validating on 10%.\r\n",
        "train_indices = int(0.9 * df.shape[0])\r\n",
        "x_train, x_val, y_train, y_val = (\r\n",
        "    x[:train_indices],\r\n",
        "    x[train_indices:],\r\n",
        "    y[:train_indices],\r\n",
        "    y[train_indices:],\r\n",
        ")\r\n"
      ],
      "execution_count": 5,
      "outputs": []
    },
    {
      "cell_type": "code",
      "metadata": {
        "id": "threyl46GKd5"
      },
      "source": [
        "EMBEDDING_SIZE = 50\r\n",
        "\r\n",
        "\r\n",
        "class RecommenderNet(keras.Model):\r\n",
        "    def __init__(self, num_users, num_movies, embedding_size, **kwargs):\r\n",
        "        super(RecommenderNet, self).__init__(**kwargs)\r\n",
        "        self.num_users = num_users\r\n",
        "        self.num_movies = num_movies\r\n",
        "        self.embedding_size = embedding_size\r\n",
        "        self.user_embedding = layers.Embedding(\r\n",
        "            num_users,\r\n",
        "            embedding_size,\r\n",
        "            embeddings_initializer=\"he_normal\",\r\n",
        "            embeddings_regularizer=keras.regularizers.l2(1e-6),\r\n",
        "        )\r\n",
        "        self.user_bias = layers.Embedding(num_users, 1)\r\n",
        "        self.movie_embedding = layers.Embedding(\r\n",
        "            num_movies,\r\n",
        "            embedding_size,\r\n",
        "            embeddings_initializer=\"he_normal\",\r\n",
        "            embeddings_regularizer=keras.regularizers.l2(1e-6),\r\n",
        "        )\r\n",
        "        self.movie_bias = layers.Embedding(num_movies, 1)\r\n",
        "\r\n",
        "    def call(self, inputs):\r\n",
        "        user_vector = self.user_embedding(inputs[:, 0])\r\n",
        "        user_bias = self.user_bias(inputs[:, 0])\r\n",
        "        movie_vector = self.movie_embedding(inputs[:, 1])\r\n",
        "        movie_bias = self.movie_bias(inputs[:, 1])\r\n",
        "        dot_user_movie = tf.tensordot(user_vector, movie_vector, 2)\r\n",
        "        # Add all the components (including bias)\r\n",
        "        x = dot_user_movie + user_bias + movie_bias\r\n",
        "        # The sigmoid activation forces the rating to between 0 and 1\r\n",
        "        return tf.nn.sigmoid(x)\r\n",
        "\r\n",
        "\r\n",
        "model = RecommenderNet(num_users, num_movies, EMBEDDING_SIZE)\r\n",
        "model.compile(\r\n",
        "    loss=tf.keras.losses.BinaryCrossentropy(), optimizer=keras.optimizers.Adam(lr=0.001)\r\n",
        ")\r\n"
      ],
      "execution_count": 6,
      "outputs": []
    },
    {
      "cell_type": "code",
      "metadata": {
        "colab": {
          "base_uri": "https://localhost:8080/"
        },
        "id": "HtP9S8bUGPhm",
        "outputId": "e57ef749-511c-4a97-ed74-31d0ff962e9f"
      },
      "source": [
        "history = model.fit(\r\n",
        "    x=x_train,\r\n",
        "    y=y_train,\r\n",
        "    batch_size=64,\r\n",
        "    epochs=5,\r\n",
        "    verbose=1,\r\n",
        "    validation_data=(x_val, y_val),\r\n",
        ")\r\n"
      ],
      "execution_count": 7,
      "outputs": [
        {
          "output_type": "stream",
          "text": [
            "Epoch 1/5\n",
            "1418/1418 [==============================] - 8s 5ms/step - loss: 0.6591 - val_loss: 0.6208\n",
            "Epoch 2/5\n",
            "1418/1418 [==============================] - 7s 5ms/step - loss: 0.6159 - val_loss: 0.6190\n",
            "Epoch 3/5\n",
            "1418/1418 [==============================] - 7s 5ms/step - loss: 0.6094 - val_loss: 0.6143\n",
            "Epoch 4/5\n",
            "1418/1418 [==============================] - 7s 5ms/step - loss: 0.6071 - val_loss: 0.6134\n",
            "Epoch 5/5\n",
            "1418/1418 [==============================] - 8s 5ms/step - loss: 0.6087 - val_loss: 0.6122\n"
          ],
          "name": "stdout"
        }
      ]
    },
    {
      "cell_type": "code",
      "metadata": {
        "colab": {
          "base_uri": "https://localhost:8080/",
          "height": 295
        },
        "id": "az3-ob4qGSSK",
        "outputId": "8e6e5f10-dc8f-44aa-eec8-e343a53120b4"
      },
      "source": [
        "plt.plot(history.history[\"loss\"])\r\n",
        "plt.plot(history.history[\"val_loss\"])\r\n",
        "plt.title(\"model loss\")\r\n",
        "plt.ylabel(\"loss\")\r\n",
        "plt.xlabel(\"epoch\")\r\n",
        "plt.legend([\"train\", \"test\"], loc=\"upper left\")\r\n",
        "plt.show()\r\n"
      ],
      "execution_count": 8,
      "outputs": [
        {
          "output_type": "display_data",
          "data": {
            "image/png": "[encoded data removed]",
            "text/plain": [
              "<Figure size 432x288 with 1 Axes>"
            ]
          },
          "metadata": {
            "tags": [],
            "needs_background": "light"
          }
        }
      ]
    },
    {
      "cell_type": "code",
      "metadata": {
        "colab": {
          "base_uri": "https://localhost:8080/"
        },
        "id": "dSIxCssJGZII",
        "outputId": "d54ba9b2-7fb9-4d73-fd8a-1a5fe28960f8"
      },
      "source": [
        "movie_df = pd.read_csv(movielens_dir / \"movies.csv\")\r\n",
        "\r\n",
        "# Let us get a user and see the top recommendations.\r\n",
        "user_id = df.userId.sample(1).iloc[0]\r\n",
        "movies_watched_by_user = df[df.userId == user_id]\r\n",
        "movies_not_watched = movie_df[\r\n",
        "    ~movie_df[\"movieId\"].isin(movies_watched_by_user.movieId.values)\r\n",
        "][\"movieId\"]\r\n",
        "movies_not_watched = list(\r\n",
        "    set(movies_not_watched).intersection(set(movie2movie_encoded.keys()))\r\n",
        ")\r\n",
        "movies_not_watched = [[movie2movie_encoded.get(x)] for x in movies_not_watched]\r\n",
        "user_encoder = user2user_encoded.get(user_id)\r\n",
        "user_movie_array = np.hstack(\r\n",
        "    ([[user_encoder]] * len(movies_not_watched), movies_not_watched)\r\n",
        ")\r\n",
        "ratings = model.predict(user_movie_array).flatten()\r\n",
        "top_ratings_indices = ratings.argsort()[-10:][::-1]\r\n",
        "recommended_movie_ids = [\r\n",
        "    movie_encoded2movie.get(movies_not_watched[x][0]) for x in top_ratings_indices\r\n",
        "]\r\n",
        "\r\n",
        "print(\"Showing recommendations for user: {}\".format(user_id))\r\n",
        "print(\"====\" * 9)\r\n",
        "print(\"Movies with high ratings from user\")\r\n",
        "print(\"----\" * 8)\r\n",
        "top_movies_user = (\r\n",
        "    movies_watched_by_user.sort_values(by=\"rating\", ascending=False)\r\n",
        "    .head(5)\r\n",
        "    .movieId.values\r\n",
        ")\r\n",
        "movie_df_rows = movie_df[movie_df[\"movieId\"].isin(top_movies_user)]\r\n",
        "for row in movie_df_rows.itertuples():\r\n",
        "    print(row.title, \":\", row.genres)\r\n",
        "\r\n",
        "print(\"----\" * 8)\r\n",
        "print(\"Top 10 movie recommendations\")\r\n",
        "print(\"----\" * 8)\r\n",
        "recommended_movies = movie_df[movie_df[\"movieId\"].isin(recommended_movie_ids)]\r\n",
        "for row in recommended_movies.itertuples():\r\n",
        "    print(row.title, \":\", row.genres)\r\n"
      ],
      "execution_count": 9,
      "outputs": [
        {
          "output_type": "stream",
          "text": [
            "Showing recommendations for user: 43\n",
            "====================================\n",
            "Movies with high ratings from user\n",
            "--------------------------------\n",
            "Forrest Gump (1994) : Comedy|Drama|Romance|War\n",
            "Jungle Book, The (1994) : Adventure|Children|Romance\n",
            "Three Musketeers, The (1993) : Action|Adventure|Comedy|Romance\n",
            "Pinocchio (1940) : Animation|Children|Fantasy|Musical\n",
            "Children of the Corn IV: The Gathering (1996) : Horror\n",
            "--------------------------------\n",
            "Top 10 movie recommendations\n",
            "--------------------------------\n",
            "American History X (1998) : Crime|Drama\n",
            "Fight Club (1999) : Action|Crime|Drama|Thriller\n",
            "Amelie (Fabuleux destin d'Amélie Poulain, Le) (2001) : Comedy|Romance\n",
            "Lord of the Rings: The Fellowship of the Ring, The (2001) : Adventure|Fantasy\n",
            "City of God (Cidade de Deus) (2002) : Action|Adventure|Crime|Drama|Thriller\n",
            "Eternal Sunshine of the Spotless Mind (2004) : Drama|Romance|Sci-Fi\n",
            "Departed, The (2006) : Crime|Drama|Thriller\n",
            "Hot Fuzz (2007) : Action|Comedy|Crime|Mystery\n",
            "Dark Knight, The (2008) : Action|Crime|Drama|IMAX\n",
            "The Imitation Game (2014) : Drama|Thriller|War\n"
          ],
          "name": "stdout"
        }
      ]
    }
  ]
}