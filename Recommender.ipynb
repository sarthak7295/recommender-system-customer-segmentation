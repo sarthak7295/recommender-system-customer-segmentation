{
 "cells": [
  {
   "cell_type": "code",
   "execution_count": 18,
   "metadata": {
    "colab": {
     "base_uri": "https://localhost:8080/"
    },
    "id": "EVvFASiPd30P",
    "outputId": "7f56ec61-e5d9-4809-da1d-5d252758b78f"
   },
   "outputs": [
    {
     "name": "stdout",
     "output_type": "stream",
     "text": [
      "Setup done\n"
     ]
    }
   ],
   "source": [
    "import pandas as pd\n",
    "import numpy as np\n",
    "from zipfile import ZipFile\n",
    "import tensorflow as tf\n",
    "from tensorflow import keras\n",
    "from tensorflow.keras import layers\n",
    "from pathlib import Path\n",
    "import matplotlib.pyplot as plt\n",
    "print('Setup done')"
   ]
  },
  {
   "cell_type": "code",
   "execution_count": 19,
   "metadata": {
    "colab": {
     "base_uri": "https://localhost:8080/"
    },
    "id": "u-lU34qpOGt4",
    "outputId": "cc2f3663-68c2-4a3a-a622-add4e7082213"
   },
   "outputs": [
    {
     "name": "stdout",
     "output_type": "stream",
     "text": [
      "Mounted at /content/gdrive\n"
     ]
    }
   ],
   "source": [
    "from google.colab import drive\n",
    "\n",
    "drive.mount('/content/gdrive',force_remount=True)"
   ]
  },
  {
   "cell_type": "code",
   "execution_count": 20,
   "metadata": {
    "colab": {
     "base_uri": "https://localhost:8080/"
    },
    "id": "eFJj83sOIbgn",
    "outputId": "e5835620-6db3-443e-b76b-38cbd59f762d"
   },
   "outputs": [
    {
     "name": "stdout",
     "output_type": "stream",
     "text": [
      "dataset Loaded\n"
     ]
    }
   ],
   "source": [
    "df = pd.read_csv('/content/gdrive/MyDrive/sar.csv', sep=',')\n",
    "df_client_rfm = pd.read_csv('/content/gdrive/MyDrive/client_rfm.csv', sep=',')\n",
    "print(\"dataset Loaded\")"
   ]
  },
  {
   "cell_type": "code",
   "execution_count": 21,
   "metadata": {
    "id": "sZO_dyJfH2z2"
   },
   "outputs": [],
   "source": [
    "df_client_rfm = df_client_rfm[['Client','Rank_Recency','Rank_Frequency','Rank_Monetary','Cluster']]"
   ]
  },
  {
   "cell_type": "code",
   "execution_count": 22,
   "metadata": {
    "colab": {
     "base_uri": "https://localhost:8080/"
    },
    "id": "RULpnoC-Unsf",
    "outputId": "8b9b8fba-c87b-4aad-9e7c-affe7f0ccbb0"
   },
   "outputs": [
    {
     "data": {
      "text/plain": [
       "54708"
      ]
     },
     "execution_count": 22,
     "metadata": {
      "tags": []
     },
     "output_type": "execute_result"
    }
   ],
   "source": [
    "df['ProductId'].nunique()"
   ]
  },
  {
   "cell_type": "code",
   "execution_count": 23,
   "metadata": {
    "colab": {
     "base_uri": "https://localhost:8080/"
    },
    "id": "LzPcnzrWbbSR",
    "outputId": "a6fd3b51-75d3-4d61-e68d-59ca20d3e631"
   },
   "outputs": [
    {
     "data": {
      "text/plain": [
       "10816"
      ]
     },
     "execution_count": 23,
     "metadata": {
      "tags": []
     },
     "output_type": "execute_result"
    }
   ],
   "source": [
    "df_client_product = df[['Client','ProductId','Rating']].copy()\n",
    "df_client_product = pd.merge(df_client_product,df_client_rfm,on='Client',how='left')\n",
    "\n",
    "df_client_product.drop_duplicates(keep='first',inplace=True,subset=['Client','ProductId']) \n",
    "\n",
    "\n",
    "n_users = df_client_product['Client'].nunique()\n",
    "n_users"
   ]
  },
  {
   "cell_type": "code",
   "execution_count": 24,
   "metadata": {
    "colab": {
     "base_uri": "https://localhost:8080/"
    },
    "id": "4XVTttXNboxJ",
    "outputId": "96ac4deb-c11b-4948-9886-505753c2585e"
   },
   "outputs": [
    {
     "data": {
      "text/plain": [
       "54708"
      ]
     },
     "execution_count": 24,
     "metadata": {
      "tags": []
     },
     "output_type": "execute_result"
    }
   ],
   "source": [
    "df_product = df[['ProductId','Product','Product Category','Product Cost']].copy()\n",
    "df_product.drop_duplicates(keep='first',inplace=True) \n",
    "\n",
    "n_prod = df_product['ProductId'].nunique()\n",
    "n_prod"
   ]
  },
  {
   "cell_type": "code",
   "execution_count": 25,
   "metadata": {
    "id": "mCd_H3bhfsv3"
   },
   "outputs": [],
   "source": [
    "from sklearn.model_selection import train_test_split\n",
    "from sklearn.preprocessing import LabelEncoder\n",
    "\n",
    "prod_enc = LabelEncoder()\n",
    "df_client_product['Client'] = prod_enc.fit_transform(df_client_product['Client'].values)\n",
    "\n",
    "prod_enc = LabelEncoder()\n",
    "df_product['Product'] = prod_enc.fit_transform(df_product['Product'].values)\n",
    "\n",
    "prod_cat_enc = LabelEncoder()\n",
    "df_product['Product Category'] = prod_cat_enc.fit_transform(df_product['Product Category'].values)\n",
    "\n",
    "prod_id_enc = LabelEncoder()\n",
    "df_product['ProductId'] = prod_id_enc.fit_transform(df_product['ProductId'].values)\n",
    "df_client_product['ProductId'] = prod_id_enc.transform(df_client_product['ProductId'].values)"
   ]
  },
  {
   "cell_type": "code",
   "execution_count": 26,
   "metadata": {
    "id": "7v6zhZxepVn5"
   },
   "outputs": [],
   "source": [
    "train, test = train_test_split(df_client_product, test_size=0.2, random_state=42)"
   ]
  },
  {
   "cell_type": "code",
   "execution_count": 39,
   "metadata": {
    "id": "JitHDvYBmQBA"
   },
   "outputs": [],
   "source": [
    "from keras.layers import Input, Embedding, Flatten, Dot, Dense,Concatenate\n",
    "from keras.models import Model\n",
    "\n",
    "product_input = Input(shape=[1], name=\"Product-Input\")\n",
    "\n",
    "product_embedding = Embedding(n_prod+1, 5, name=\"Product-Embedding\")(product_input)\n",
    "product_vec = Flatten(name=\"Flatten-Product\")(product_embedding)\n",
    "\n",
    "user_input = Input(shape=[1], name=\"User-Input\")\n",
    "user_embedding = Embedding(n_users+1, 5, name=\"User-Embedding\")(user_input)\n",
    "user_vec = Flatten(name=\"Flatten-Users\")(user_embedding)\n",
    "prod = Dot(name=\"Dot-Product\", axes=1)([product_vec, user_vec])\n",
    "# concatted = Concatenate()([product_vec, user_vec])\n",
    "# d = Dense(4, kernel_initializer='normal')(concatted)\n",
    "# out = Dense(1, kernel_initializer='normal')(d)\n",
    "model = Model([user_input, product_input], prod)\n",
    "model.compile('adam', 'mean_squared_error')"
   ]
  },
  {
   "cell_type": "code",
   "execution_count": 52,
   "metadata": {
    "id": "YtpLXVolko_e"
   },
   "outputs": [],
   "source": [
    "from keras.layers import Input, Embedding, Flatten, Dot, Dense,Concatenate\n",
    "from keras.models import Model\n",
    "\n",
    "product_input = Input(shape=[1], name=\"Product-Input\")\n",
    "\n",
    "product_embedding = Embedding(n_prod+1, 5, name=\"Product-Embedding\")(product_input)\n",
    "product_vec = Flatten(name=\"Flatten-Product\")(product_embedding)\n",
    "\n",
    "user_input = Input(shape=[5], name=\"User-Input\")\n",
    "user_embedding = Embedding(n_users+1, 8, name=\"User-Embedding\")(user_input)\n",
    "user_vec = Flatten(name=\"Flatten-Users\")(user_embedding)\n",
    "# prod = Dot(name=\"Dot-Product\", axes=1)([product_vec, user_vec])\n",
    "concatted = Concatenate()([product_vec, user_vec])\n",
    "d = Dense(4, kernel_initializer='normal')(concatted)\n",
    "out = Dense(1, kernel_initializer='normal')(d)\n",
    "model_rfm = Model([user_input, product_input], out)\n",
    "model_rfm.compile('adam', 'mean_squared_error')"
   ]
  },
  {
   "cell_type": "code",
   "execution_count": 28,
   "metadata": {
    "colab": {
     "base_uri": "https://localhost:8080/",
     "height": 424
    },
    "id": "-5Pew3xWetug",
    "outputId": "9801683b-f333-4c28-a6a3-b0208b9382fd"
   },
   "outputs": [
    {
     "data": {
      "text/html": [
       "<div>\n",
       "<style scoped>\n",
       "    .dataframe tbody tr th:only-of-type {\n",
       "        vertical-align: middle;\n",
       "    }\n",
       "\n",
       "    .dataframe tbody tr th {\n",
       "        vertical-align: top;\n",
       "    }\n",
       "\n",
       "    .dataframe thead th {\n",
       "        text-align: right;\n",
       "    }\n",
       "</style>\n",
       "<table border=\"1\" class=\"dataframe\">\n",
       "  <thead>\n",
       "    <tr style=\"text-align: right;\">\n",
       "      <th></th>\n",
       "      <th>Client</th>\n",
       "      <th>ProductId</th>\n",
       "      <th>Rating</th>\n",
       "      <th>Rank_Recency</th>\n",
       "      <th>Rank_Frequency</th>\n",
       "      <th>Rank_Monetary</th>\n",
       "      <th>Cluster</th>\n",
       "    </tr>\n",
       "  </thead>\n",
       "  <tbody>\n",
       "    <tr>\n",
       "      <th>0</th>\n",
       "      <td>763</td>\n",
       "      <td>18402</td>\n",
       "      <td>7.5</td>\n",
       "      <td>1736</td>\n",
       "      <td>2000</td>\n",
       "      <td>2000</td>\n",
       "      <td>4</td>\n",
       "    </tr>\n",
       "    <tr>\n",
       "      <th>32</th>\n",
       "      <td>8310</td>\n",
       "      <td>17466</td>\n",
       "      <td>7.5</td>\n",
       "      <td>1170</td>\n",
       "      <td>2000</td>\n",
       "      <td>2000</td>\n",
       "      <td>4</td>\n",
       "    </tr>\n",
       "    <tr>\n",
       "      <th>64</th>\n",
       "      <td>697</td>\n",
       "      <td>14033</td>\n",
       "      <td>6.5</td>\n",
       "      <td>2001</td>\n",
       "      <td>2000</td>\n",
       "      <td>2000</td>\n",
       "      <td>4</td>\n",
       "    </tr>\n",
       "    <tr>\n",
       "      <th>96</th>\n",
       "      <td>763</td>\n",
       "      <td>23790</td>\n",
       "      <td>7.5</td>\n",
       "      <td>1736</td>\n",
       "      <td>2000</td>\n",
       "      <td>2000</td>\n",
       "      <td>4</td>\n",
       "    </tr>\n",
       "    <tr>\n",
       "      <th>128</th>\n",
       "      <td>763</td>\n",
       "      <td>16787</td>\n",
       "      <td>7.5</td>\n",
       "      <td>1736</td>\n",
       "      <td>2000</td>\n",
       "      <td>2000</td>\n",
       "      <td>4</td>\n",
       "    </tr>\n",
       "    <tr>\n",
       "      <th>...</th>\n",
       "      <td>...</td>\n",
       "      <td>...</td>\n",
       "      <td>...</td>\n",
       "      <td>...</td>\n",
       "      <td>...</td>\n",
       "      <td>...</td>\n",
       "      <td>...</td>\n",
       "    </tr>\n",
       "    <tr>\n",
       "      <th>1628892</th>\n",
       "      <td>2233</td>\n",
       "      <td>9840</td>\n",
       "      <td>4.5</td>\n",
       "      <td>1346</td>\n",
       "      <td>1562</td>\n",
       "      <td>1471</td>\n",
       "      <td>4</td>\n",
       "    </tr>\n",
       "    <tr>\n",
       "      <th>1628917</th>\n",
       "      <td>5848</td>\n",
       "      <td>9904</td>\n",
       "      <td>6.0</td>\n",
       "      <td>1515</td>\n",
       "      <td>1762</td>\n",
       "      <td>1802</td>\n",
       "      <td>4</td>\n",
       "    </tr>\n",
       "    <tr>\n",
       "      <th>1628918</th>\n",
       "      <td>6270</td>\n",
       "      <td>3711</td>\n",
       "      <td>6.0</td>\n",
       "      <td>1824</td>\n",
       "      <td>1940</td>\n",
       "      <td>1905</td>\n",
       "      <td>4</td>\n",
       "    </tr>\n",
       "    <tr>\n",
       "      <th>1628920</th>\n",
       "      <td>519</td>\n",
       "      <td>40335</td>\n",
       "      <td>5.0</td>\n",
       "      <td>1535</td>\n",
       "      <td>1426</td>\n",
       "      <td>1139</td>\n",
       "      <td>4</td>\n",
       "    </tr>\n",
       "    <tr>\n",
       "      <th>1628921</th>\n",
       "      <td>3438</td>\n",
       "      <td>2781</td>\n",
       "      <td>3.5</td>\n",
       "      <td>608</td>\n",
       "      <td>1961</td>\n",
       "      <td>1934</td>\n",
       "      <td>3</td>\n",
       "    </tr>\n",
       "  </tbody>\n",
       "</table>\n",
       "<p>503066 rows × 7 columns</p>\n",
       "</div>"
      ],
      "text/plain": [
       "         Client  ProductId  Rating  ...  Rank_Frequency  Rank_Monetary  Cluster\n",
       "0           763      18402     7.5  ...            2000           2000        4\n",
       "32         8310      17466     7.5  ...            2000           2000        4\n",
       "64          697      14033     6.5  ...            2000           2000        4\n",
       "96          763      23790     7.5  ...            2000           2000        4\n",
       "128         763      16787     7.5  ...            2000           2000        4\n",
       "...         ...        ...     ...  ...             ...            ...      ...\n",
       "1628892    2233       9840     4.5  ...            1562           1471        4\n",
       "1628917    5848       9904     6.0  ...            1762           1802        4\n",
       "1628918    6270       3711     6.0  ...            1940           1905        4\n",
       "1628920     519      40335     5.0  ...            1426           1139        4\n",
       "1628921    3438       2781     3.5  ...            1961           1934        3\n",
       "\n",
       "[503066 rows x 7 columns]"
      ]
     },
     "execution_count": 28,
     "metadata": {
      "tags": []
     },
     "output_type": "execute_result"
    }
   ],
   "source": [
    "df_client_product"
   ]
  },
  {
   "cell_type": "code",
   "execution_count": 58,
   "metadata": {
    "colab": {
     "base_uri": "https://localhost:8080/"
    },
    "id": "gIAI_a0QpXhP",
    "outputId": "c0d31c23-7544-4dd6-98e9-d0d966ba95dd"
   },
   "outputs": [
    {
     "name": "stdout",
     "output_type": "stream",
     "text": [
      "Epoch 1/2\n",
      "12577/12577 [==============================] - 61s 5ms/step - loss: 5.7407 - val_loss: 5.0387\n",
      "Epoch 2/2\n",
      "12577/12577 [==============================] - 60s 5ms/step - loss: 3.2421 - val_loss: 3.5760\n"
     ]
    }
   ],
   "source": [
    "history = model.fit([train[['Client']],\n",
    "                     train[['ProductId']]], train['Rating'],\n",
    "                    validation_data=\n",
    "                    ([test[['Client']],\n",
    "                      test['ProductId']], test['Rating']), epochs=2, verbose=1)\n",
    "model.save('regression_model.h5')"
   ]
  },
  {
   "cell_type": "code",
   "execution_count": 53,
   "metadata": {
    "colab": {
     "base_uri": "https://localhost:8080/"
    },
    "id": "MGe3H3-hko-D",
    "outputId": "765be4c2-521d-4198-bbbe-c800af4577a1"
   },
   "outputs": [
    {
     "name": "stdout",
     "output_type": "stream",
     "text": [
      "Epoch 1/2\n",
      "12577/12577 [==============================] - 66s 5ms/step - loss: 2.3082 - val_loss: 0.4957\n",
      "Epoch 2/2\n",
      "12577/12577 [==============================] - 67s 5ms/step - loss: 0.4199 - val_loss: 0.4606\n"
     ]
    }
   ],
   "source": [
    "history_rfm = model_rfm.fit([train[['Client','Rank_Recency','Rank_Frequency','Rank_Monetary','Cluster']],\n",
    "                             train[['ProductId']]], train['Rating'],\n",
    "                            validation_data=([test[['Client','Rank_Recency','Rank_Frequency','Rank_Monetary','Cluster']],\n",
    "                                              test['ProductId']], test['Rating']), epochs=2, verbose=1)\n",
    "model_rfm.save('regression_model.h5')"
   ]
  },
  {
   "cell_type": "code",
   "execution_count": 30,
   "metadata": {
    "colab": {
     "base_uri": "https://localhost:8080/",
     "height": 295
    },
    "id": "az3-ob4qGSSK",
    "outputId": "16696b2f-c406-4338-d104-e9dc070bf639"
   },
   "outputs": [
    {
     "data": {
      "image/png": "[encoded data removed]",
      "text/plain": [
       "<Figure size 432x288 with 1 Axes>"
      ]
     },
     "metadata": {
      "needs_background": "light",
      "tags": []
     },
     "output_type": "display_data"
    }
   ],
   "source": [
    "plt.plot(history.history[\"loss\"])\n",
    "plt.plot(history.history[\"val_loss\"])\n",
    "plt.title(\"model loss\")\n",
    "plt.ylabel(\"loss\")\n",
    "plt.xlabel(\"epoch\")\n",
    "plt.legend([\"train\", \"test\"], loc=\"upper left\")\n",
    "plt.show()\n"
   ]
  },
  {
   "cell_type": "code",
   "execution_count": 41,
   "metadata": {
    "id": "h-MO9eYwiOMU"
   },
   "outputs": [],
   "source": [
    "test[['Client','Rank_Recency','Rank_Frequency','Rank_Monetary','Cluster']].iloc[1]\n",
    "test['ProductId'].values\n",
    "product_db = np.array(list(set(test['ProductId'])))"
   ]
  },
  {
   "cell_type": "code",
   "execution_count": 56,
   "metadata": {
    "id": "PQPS1Rm8gYF8"
   },
   "outputs": [],
   "source": [
    "# Creating dataset for making recommendations for the first user\n",
    "# Without RFM\n",
    "\n",
    "product_db = np.array(list(set(train['ProductId'])))\n",
    "\n",
    "user = test[['Client','Rank_Recency','Rank_Frequency','Rank_Monetary','Cluster']].iloc[1]\n",
    "user = np.array([1 for i in range(len(product_db))])\n",
    "\n",
    "predictions = model.predict([user, product_db])\n",
    "\n",
    "predictions = np.array([a[0] for a in predictions])\n",
    "\n",
    "# recommended_book_ids = (-predictions).argsort()[:5]\n",
    "# print(recommended_book_ids)\n",
    "# print(predictions[recommended_book_ids])"
   ]
  },
  {
   "cell_type": "code",
   "execution_count": 57,
   "metadata": {
    "colab": {
     "base_uri": "https://localhost:8080/"
    },
    "id": "TLUR7eJxn-zD",
    "outputId": "3ba03ec8-b178-4f2e-d6fe-2a6e7934cc10"
   },
   "outputs": [
    {
     "data": {
      "text/plain": [
       "5.217847"
      ]
     },
     "execution_count": 57,
     "metadata": {
      "tags": []
     },
     "output_type": "execute_result"
    }
   ],
   "source": [
    "max(predictions)"
   ]
  },
  {
   "cell_type": "code",
   "execution_count": 64,
   "metadata": {
    "id": "RVkb1wdsldYW"
   },
   "outputs": [],
   "source": [
    "# Creating dataset for making recommendations for the first user\n",
    "# With RFM\n",
    "\n",
    "product_db = np.array(list(set(df_client_product['ProductId'])))\n",
    "\n",
    "user = test[['Client','Rank_Recency','Rank_Frequency','Rank_Monetary','Cluster']].iloc[1].values\n",
    "user_t = np.array([user for i in range(len(product_db))])\n",
    "\n",
    "predictions = model_rfm.predict([user_t, product_db])\n",
    "\n",
    "predictions = np.array([a[0] for a in predictions])\n",
    "\n",
    "# recommended_book_ids = (-predictions).argsort()[:5]\n",
    "# print(recommended_book_ids)\n",
    "# print(predictions[recommended_book_ids])"
   ]
  },
  {
   "cell_type": "code",
   "execution_count": 68,
   "metadata": {
    "colab": {
     "base_uri": "https://localhost:8080/"
    },
    "id": "3eJxBd5zshr4",
    "outputId": "73852fdf-8b93-4c49-bee8-ea6fc5192ab5"
   },
   "outputs": [
    {
     "data": {
      "text/plain": [
       "array([6562, 1743, 1506, 1887,    4])"
      ]
     },
     "execution_count": 68,
     "metadata": {
      "tags": []
     },
     "output_type": "execute_result"
    }
   ],
   "source": [
    "user"
   ]
  },
  {
   "cell_type": "code",
   "execution_count": 67,
   "metadata": {
    "colab": {
     "base_uri": "https://localhost:8080/"
    },
    "id": "v67EUYlysFUI",
    "outputId": "386013cd-3a3b-44b1-c943-fd5b23db6dab"
   },
   "outputs": [
    {
     "data": {
      "text/plain": [
       "array([4.7360673, 3.6466682, 3.6418393, ..., 5.05877  , 4.761269 ,\n",
       "       4.956297 ], dtype=float32)"
      ]
     },
     "execution_count": 67,
     "metadata": {
      "tags": []
     },
     "output_type": "execute_result"
    }
   ],
   "source": [
    "predictions"
   ]
  }
 ],
 "metadata": {
  "accelerator": "GPU",
  "colab": {
   "collapsed_sections": [],
   "name": "Movie_len test.ipynb",
   "provenance": []
  },
  "kernelspec": {
   "display_name": "Python 3",
   "language": "python",
   "name": "python3"
  },
  "language_info": {
   "codemirror_mode": {
    "name": "ipython",
    "version": 3
   },
   "file_extension": ".py",
   "mimetype": "text/x-python",
   "name": "python",
   "nbconvert_exporter": "python",
   "pygments_lexer": "ipython3",
   "version": "3.8.6"
  }
 },
 "nbformat": 4,
 "nbformat_minor": 1
}
