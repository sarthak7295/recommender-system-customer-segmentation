{
 "cells": [
  {
   "cell_type": "code",
   "execution_count": 1,
   "metadata": {},
   "outputs": [
    {
     "name": "stdout",
     "output_type": "stream",
     "text": [
      "setup done\n"
     ]
    }
   ],
   "source": [
    "import PyQt5\n",
    "%matplotlib qt\n",
    "import math\n",
    "import pandas as pd\n",
    "import seaborn as sns\n",
    "import numpy as np\n",
    "from sklearn.cluster import KMeans\n",
    "import matplotlib as mpl\n",
    "import matplotlib.pyplot as plt\n",
    "from mpl_toolkits.mplot3d import Axes3D\n",
    "from sklearn.decomposition import PCA\n",
    "print(\"setup done\")"
   ]
  },
  {
   "cell_type": "code",
   "execution_count": 9,
   "metadata": {},
   "outputs": [
    {
     "name": "stdout",
     "output_type": "stream",
     "text": [
      "dataset Loaded\n"
     ]
    }
   ],
   "source": [
    "df = pd.read_csv('./sar.csv', sep=',')\n",
    "# del df['Employee']\n",
    "# df['Date'] = pd.to_datetime(df['Sale Date Time'])\n",
    "# df = df.drop(columns=['Sale Date Time'])\n",
    "# df = df.loc[(df['Client'] != 'Customer not informed')]\n",
    "# df = pd.read_pickle(\"./dataset_brazil_ratings.pkl\")\n",
    "# df = df.rename(columns={\"Rating_rf_combined_fin\": \"Rating_rf\", \"FinRating_indi\": \"Rating_Cust\"})\n",
    "# df = df.loc[(df['Client'] != 'Customer not informed')]\n",
    "print(\"dataset Loaded\")"
   ]
  },
  {
   "cell_type": "code",
   "execution_count": 10,
   "metadata": {},
   "outputs": [],
   "source": [
    "df.to_csv('sar.csv',index=False)"
   ]
  },
  {
   "cell_type": "code",
   "execution_count": 8,
   "metadata": {},
   "outputs": [
    {
     "data": {
      "text/html": [
       "<div>\n",
       "<style scoped>\n",
       "    .dataframe tbody tr th:only-of-type {\n",
       "        vertical-align: middle;\n",
       "    }\n",
       "\n",
       "    .dataframe tbody tr th {\n",
       "        vertical-align: top;\n",
       "    }\n",
       "\n",
       "    .dataframe thead th {\n",
       "        text-align: right;\n",
       "    }\n",
       "</style>\n",
       "<table border=\"1\" class=\"dataframe\">\n",
       "  <thead>\n",
       "    <tr style=\"text-align: right;\">\n",
       "      <th></th>\n",
       "      <th>Unnamed: 0</th>\n",
       "      <th>Company Code</th>\n",
       "      <th>Order Number</th>\n",
       "      <th>Product</th>\n",
       "      <th>Product Category</th>\n",
       "      <th>Client</th>\n",
       "      <th>Client City</th>\n",
       "      <th>Product Cost</th>\n",
       "      <th>Discount Amount</th>\n",
       "      <th>Amount</th>\n",
       "      <th>Total</th>\n",
       "      <th>Form of payment</th>\n",
       "      <th>Date</th>\n",
       "      <th>ProductId</th>\n",
       "      <th>Rating_rf</th>\n",
       "      <th>Rating_Cust</th>\n",
       "      <th>Rating_Cust_fin</th>\n",
       "      <th>Rating</th>\n",
       "    </tr>\n",
       "  </thead>\n",
       "  <tbody>\n",
       "    <tr>\n",
       "      <th>0</th>\n",
       "      <td>0</td>\n",
       "      <td>1757000</td>\n",
       "      <td>137398</td>\n",
       "      <td>Special Gasoline</td>\n",
       "      <td>Fuel</td>\n",
       "      <td>Barry Barrett</td>\n",
       "      <td>Ruwell</td>\n",
       "      <td>2.83</td>\n",
       "      <td>0.0</td>\n",
       "      <td>4.430</td>\n",
       "      <td>15.01</td>\n",
       "      <td>Money</td>\n",
       "      <td>2017-06-10 15:07:00</td>\n",
       "      <td>116945202798</td>\n",
       "      <td>5.5</td>\n",
       "      <td>482</td>\n",
       "      <td>9.705</td>\n",
       "      <td>7.5</td>\n",
       "    </tr>\n",
       "    <tr>\n",
       "      <th>1</th>\n",
       "      <td>1</td>\n",
       "      <td>1757000</td>\n",
       "      <td>137410</td>\n",
       "      <td>Special Gasoline</td>\n",
       "      <td>Fuel</td>\n",
       "      <td>Barry Barrett</td>\n",
       "      <td>Ruwell</td>\n",
       "      <td>2.83</td>\n",
       "      <td>0.0</td>\n",
       "      <td>8.862</td>\n",
       "      <td>30.03</td>\n",
       "      <td>Money</td>\n",
       "      <td>2017-06-10 15:17:00</td>\n",
       "      <td>116945202798</td>\n",
       "      <td>5.5</td>\n",
       "      <td>482</td>\n",
       "      <td>9.705</td>\n",
       "      <td>7.5</td>\n",
       "    </tr>\n",
       "    <tr>\n",
       "      <th>2</th>\n",
       "      <td>2</td>\n",
       "      <td>1757000</td>\n",
       "      <td>137413</td>\n",
       "      <td>Special Gasoline</td>\n",
       "      <td>Fuel</td>\n",
       "      <td>Barry Barrett</td>\n",
       "      <td>Ruwell</td>\n",
       "      <td>2.83</td>\n",
       "      <td>0.0</td>\n",
       "      <td>29.508</td>\n",
       "      <td>100.00</td>\n",
       "      <td>Money</td>\n",
       "      <td>2017-06-10 15:21:00</td>\n",
       "      <td>116945202798</td>\n",
       "      <td>5.5</td>\n",
       "      <td>482</td>\n",
       "      <td>9.705</td>\n",
       "      <td>7.5</td>\n",
       "    </tr>\n",
       "    <tr>\n",
       "      <th>3</th>\n",
       "      <td>3</td>\n",
       "      <td>1757000</td>\n",
       "      <td>137414</td>\n",
       "      <td>Special Gasoline</td>\n",
       "      <td>Fuel</td>\n",
       "      <td>Barry Barrett</td>\n",
       "      <td>Ruwell</td>\n",
       "      <td>2.83</td>\n",
       "      <td>0.0</td>\n",
       "      <td>14.754</td>\n",
       "      <td>50.00</td>\n",
       "      <td>Money</td>\n",
       "      <td>2017-06-10 15:22:00</td>\n",
       "      <td>116945202798</td>\n",
       "      <td>5.5</td>\n",
       "      <td>482</td>\n",
       "      <td>9.705</td>\n",
       "      <td>7.5</td>\n",
       "    </tr>\n",
       "    <tr>\n",
       "      <th>4</th>\n",
       "      <td>4</td>\n",
       "      <td>1757000</td>\n",
       "      <td>137414</td>\n",
       "      <td>Special Gasoline</td>\n",
       "      <td>Fuel</td>\n",
       "      <td>Barry Barrett</td>\n",
       "      <td>Ruwell</td>\n",
       "      <td>2.83</td>\n",
       "      <td>0.0</td>\n",
       "      <td>14.760</td>\n",
       "      <td>50.02</td>\n",
       "      <td>Money</td>\n",
       "      <td>2017-06-10 15:22:00</td>\n",
       "      <td>116945202798</td>\n",
       "      <td>5.5</td>\n",
       "      <td>482</td>\n",
       "      <td>9.705</td>\n",
       "      <td>7.5</td>\n",
       "    </tr>\n",
       "  </tbody>\n",
       "</table>\n",
       "</div>"
      ],
      "text/plain": [
       "   Unnamed: 0  Company Code  Order Number           Product Product Category  \\\n",
       "0           0       1757000        137398  Special Gasoline             Fuel   \n",
       "1           1       1757000        137410  Special Gasoline             Fuel   \n",
       "2           2       1757000        137413  Special Gasoline             Fuel   \n",
       "3           3       1757000        137414  Special Gasoline             Fuel   \n",
       "4           4       1757000        137414  Special Gasoline             Fuel   \n",
       "\n",
       "          Client Client City  Product Cost  Discount Amount  Amount   Total  \\\n",
       "0  Barry Barrett      Ruwell          2.83              0.0   4.430   15.01   \n",
       "1  Barry Barrett      Ruwell          2.83              0.0   8.862   30.03   \n",
       "2  Barry Barrett      Ruwell          2.83              0.0  29.508  100.00   \n",
       "3  Barry Barrett      Ruwell          2.83              0.0  14.754   50.00   \n",
       "4  Barry Barrett      Ruwell          2.83              0.0  14.760   50.02   \n",
       "\n",
       "  Form of payment                 Date     ProductId  Rating_rf  Rating_Cust  \\\n",
       "0           Money  2017-06-10 15:07:00  116945202798        5.5          482   \n",
       "1           Money  2017-06-10 15:17:00  116945202798        5.5          482   \n",
       "2           Money  2017-06-10 15:21:00  116945202798        5.5          482   \n",
       "3           Money  2017-06-10 15:22:00  116945202798        5.5          482   \n",
       "4           Money  2017-06-10 15:22:00  116945202798        5.5          482   \n",
       "\n",
       "   Rating_Cust_fin  Rating  \n",
       "0            9.705     7.5  \n",
       "1            9.705     7.5  \n",
       "2            9.705     7.5  \n",
       "3            9.705     7.5  \n",
       "4            9.705     7.5  "
      ]
     },
     "execution_count": 8,
     "metadata": {},
     "output_type": "execute_result"
    }
   ],
   "source": [
    "df.head()"
   ]
  },
  {
   "cell_type": "code",
   "execution_count": 66,
   "metadata": {},
   "outputs": [
    {
     "data": {
      "text/plain": [
       "1628925"
      ]
     },
     "execution_count": 66,
     "metadata": {},
     "output_type": "execute_result"
    }
   ],
   "source": [
    "len(df['Rating_Cust'])"
   ]
  },
  {
   "cell_type": "code",
   "execution_count": 67,
   "metadata": {},
   "outputs": [],
   "source": [
    "df['Rating_Cust_fin'] = pd.qcut( df['Rating_Cust'].rank(method='first'),q=2000, labels = range(1, 2001, 1))\n",
    "df['Rating_Cust_fin'] = pd.to_numeric(df['Rating_Cust_fin'])\n"
   ]
  },
  {
   "cell_type": "code",
   "execution_count": 69,
   "metadata": {},
   "outputs": [],
   "source": [
    "df['Rating_Cust_fin'] = df['Rating_Cust_fin']/200"
   ]
  },
  {
   "cell_type": "code",
   "execution_count": 71,
   "metadata": {},
   "outputs": [],
   "source": [
    "df['Rating'] = (df['Rating_Cust_fin']+df['Rating_rf'])/2"
   ]
  },
  {
   "cell_type": "code",
   "execution_count": 83,
   "metadata": {},
   "outputs": [],
   "source": [
    "df['Rating'] = round(df['Rating'],1)"
   ]
  },
  {
   "cell_type": "code",
   "execution_count": 82,
   "metadata": {},
   "outputs": [
    {
     "data": {
      "text/plain": [
       "7.7"
      ]
     },
     "execution_count": 82,
     "metadata": {},
     "output_type": "execute_result"
    }
   ],
   "source": [
    "round(7.67,1)"
   ]
  },
  {
   "cell_type": "code",
   "execution_count": 90,
   "metadata": {},
   "outputs": [],
   "source": [
    "aa=df['Rating'].value_counts().reset_index()"
   ]
  },
  {
   "cell_type": "code",
   "execution_count": 92,
   "metadata": {},
   "outputs": [],
   "source": [
    "aa.columns=['Rating','counts']"
   ]
  },
  {
   "cell_type": "code",
   "execution_count": 104,
   "metadata": {},
   "outputs": [],
   "source": [
    "def rounding_num(row):\n",
    "    if(row['Rating']<1):\n",
    "        return 1\n",
    "    else:\n",
    "        return round(row['Rating'] * 2) / 2\n",
    "    "
   ]
  },
  {
   "cell_type": "code",
   "execution_count": 105,
   "metadata": {},
   "outputs": [],
   "source": [
    "df['Rating'] =df.apply (lambda row: rounding_num(row), axis=1)"
   ]
  },
  {
   "cell_type": "code",
   "execution_count": 110,
   "metadata": {},
   "outputs": [],
   "source": [
    "df.to_pickle(\"./dataset_brazil_ratings.pkl\")"
   ]
  },
  {
   "cell_type": "code",
   "execution_count": 74,
   "metadata": {},
   "outputs": [
    {
     "data": {
      "text/plain": [
       "0          7.6025\n",
       "1          7.6025\n",
       "2          7.6025\n",
       "3          7.6025\n",
       "4          7.6025\n",
       "            ...  \n",
       "1628920    4.9125\n",
       "1628921    3.3625\n",
       "1628922    7.5325\n",
       "1628923    7.5325\n",
       "1628924    7.5325\n",
       "Name: Rating, Length: 1628925, dtype: float64"
      ]
     },
     "execution_count": 74,
     "metadata": {},
     "output_type": "execute_result"
    }
   ],
   "source": [
    "df['Rating']"
   ]
  }
 ],
 "metadata": {
  "kernelspec": {
   "display_name": "Python 3",
   "language": "python",
   "name": "python3"
  },
  "language_info": {
   "codemirror_mode": {
    "name": "ipython",
    "version": 3
   },
   "file_extension": ".py",
   "mimetype": "text/x-python",
   "name": "python",
   "nbconvert_exporter": "python",
   "pygments_lexer": "ipython3",
   "version": "3.8.6"
  }
 },
 "nbformat": 4,
 "nbformat_minor": 2
}
