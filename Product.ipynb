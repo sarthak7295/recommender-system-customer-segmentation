{
 "cells": [
  {
   "cell_type": "code",
   "execution_count": null,
   "metadata": {},
   "outputs": [],
   "source": [
    "import PyQt5\n",
    "%matplotlib qt\n",
    "import math\n",
    "import pandas as pd\n",
    "import seaborn as sns\n",
    "import numpy as np\n",
    "from sklearn.cluster import KMeans\n",
    "import matplotlib as mpl\n",
    "import matplotlib.pyplot as plt\n",
    "from mpl_toolkits.mplot3d import Axes3D\n",
    "from sklearn.decomposition import PCA\n",
    "print(\"setup done\")"
   ]
  },
  {
   "cell_type": "code",
   "execution_count": null,
   "metadata": {},
   "outputs": [],
   "source": [
    "# df = pd.read_csv('./dataset/brazil_report.csv', sep=';', parse_dates=['Sale Date Time'])\n",
    "# del df['Employee']\n",
    "# df['Date'] = pd.to_datetime(df['Sale Date Time'])\n",
    "# df = df.drop(columns=['Sale Date Time'])\n",
    "# df = df.loc[(df['Client'] != 'Customer not informed')]\n",
    "df = pd.read_pickle(\"./data_prod_code.pkl\")\n",
    "print(\"dataset Loaded\")"
   ]
  },
  {
   "cell_type": "code",
   "execution_count": null,
   "metadata": {},
   "outputs": [],
   "source": [
    "df.head()"
   ]
  },
  {
   "cell_type": "code",
   "execution_count": null,
   "metadata": {},
   "outputs": [],
   "source": [
    "# from sklearn import preprocessing\n",
    "# import pandas as pd\n",
    "\n",
    "# le_cc = preprocessing.LabelEncoder()\n",
    "# le_p = preprocessing.LabelEncoder()\n",
    "# le_pc = preprocessing.LabelEncoder()\n",
    "# le_pcost = preprocessing.LabelEncoder()\n",
    "# df['Company Code'] = le_cc.fit_transform(df['Company Code'])\n",
    "# df['Product'] = le_p.fit_transform(df['Product'])\n",
    "# df['Product Category'] = le_pc.fit_transform(df['Product Category'])\n",
    "# df['Product Cost'] = le_pcost.fit_transform(df['Product Cost'])"
   ]
  },
  {
   "cell_type": "code",
   "execution_count": null,
   "metadata": {},
   "outputs": [],
   "source": [
    "df.head()"
   ]
  },
  {
   "cell_type": "code",
   "execution_count": null,
   "metadata": {},
   "outputs": [],
   "source": [
    "dfprod = pd.DataFrame(df['ProductId'].unique())\n",
    "dfprod.columns = ['ProductId']\n",
    "\n",
    "# Recency\n",
    "df_max_purchase = df.groupby('ProductId').Date.max().reset_index()\n",
    "df_max_purchase.columns = ['ProductId','MaxPurchaseDate']\n",
    "df_max_purchase['Recency'] = (df_max_purchase['MaxPurchaseDate'].max()+pd.DateOffset(1) - df_max_purchase['MaxPurchaseDate']).dt.days   \n",
    "dfprod = pd.merge(dfprod, df_max_purchase[['ProductId','Recency']], on='ProductId')\n",
    "\n",
    "\n",
    "# Frequency\n",
    "dffreq = df.groupby('ProductId')['Order Number'].nunique().reset_index()\n",
    "dffreq.columns = ['ProductId','Frequency']\n",
    "dfprod = pd.merge(dfprod, dffreq, on='ProductId')\n"
   ]
  },
  {
   "cell_type": "code",
   "execution_count": null,
   "metadata": {},
   "outputs": [],
   "source": [
    "# dfprod.sort_values(by='Frequency',ascending=False).head(20)"
   ]
  },
  {
   "cell_type": "code",
   "execution_count": null,
   "metadata": {},
   "outputs": [],
   "source": [
    "dfprod['Rank_Frequency'] = pd.qcut( dfprod['Frequency'].rank(method='first'),q=2000, labels = range(1, 2001, 1))\n",
    "dfprod['Rank_Frequency'] = pd.to_numeric(dfprod['Rank_Frequency'])\n",
    "\n",
    "dfprod['Rank_Recency'] = pd.qcut( dfprod['Recency'].rank(method='first'),q=2000, labels = range(2001, 1, -1),)\n",
    "dfprod['Rank_Recency'] = pd.to_numeric(dfprod['Rank_Recency'])\n"
   ]
  },
  {
   "cell_type": "code",
   "execution_count": null,
   "metadata": {},
   "outputs": [],
   "source": [
    "dfprod.head()"
   ]
  },
  {
   "cell_type": "code",
   "execution_count": null,
   "metadata": {},
   "outputs": [],
   "source": [
    "%matplotlib inline\n",
    "fig = plt.figure(figsize=(20,20))\n",
    "ax = fig.add_subplot()\n",
    "ax.scatter(dfprod['Rank_Frequency'],dfprod['Rank_Recency'],cmap='brg',\n",
    "           marker='x')\n",
    "ax.set_xlabel('Frequency')\n",
    "ax.set_ylabel('Recency')\n",
    "plt.show()"
   ]
  },
  {
   "cell_type": "code",
   "execution_count": null,
   "metadata": {},
   "outputs": [],
   "source": [
    "# inertia_err = []\n",
    "# for k in range(0,20):\n",
    "#     kmeans = KMeans(n_clusters=k+1, random_state = 42).fit(dfprod[['Rank_Frequency',\n",
    "#                                                                      'Rank_Recency',\n",
    "#                                                                     ]])\n",
    "#     inertia_err.append(kmeans.inertia_)\n",
    "    \n",
    "# sns.pointplot(x=list(range(1,21)), y= inertia_err)\n",
    "# plt.show()\n"
   ]
  },
  {
   "cell_type": "code",
   "execution_count": null,
   "metadata": {},
   "outputs": [],
   "source": [
    "# we deice to go for 7 clusters\n",
    "fin_clusters = 5\n",
    "\n",
    "model = KMeans(n_clusters=fin_clusters, random_state = 42).fit(dfprod[['Rank_Frequency',\n",
    "                                                                     'Rank_Recency',\n",
    "                                                                    ]])\n",
    "centers = kmeans.cluster_centers_\n",
    "\n",
    "\n",
    "\n",
    "c=model.predict(dfprod[['Rank_Frequency','Rank_Recency',\n",
    "                                        ]])\n",
    "dfprod['Cluster'] = c"
   ]
  },
  {
   "cell_type": "code",
   "execution_count": null,
   "metadata": {},
   "outputs": [],
   "source": []
  },
  {
   "cell_type": "code",
   "execution_count": null,
   "metadata": {},
   "outputs": [],
   "source": [
    "%matplotlib inline\n",
    "fig = plt.figure(figsize=(20,20))\n",
    "# ax = fig.add_subplot()\n",
    "# ax.scatter(dfprod['Rank_Frequency'],dfprod['Rank_Recency'],cmap='brg',\n",
    "#            marker='x',c=dfprod['Cluster'],lable=dfprod['Cluster'])\n",
    "# ax.set_xlabel('Frequency')\n",
    "# ax.set_ylabel('Recency')\n",
    "\n",
    "#plot data with seaborn\n",
    "facet = sns.lmplot(data= dfprod, x='Rank_Frequency', y='Rank_Recency', hue='Cluster', \n",
    "                   fit_reg=False, legend=True, legend_out=True)\n",
    "plt.legend()\n",
    "plt.show()"
   ]
  },
  {
   "cell_type": "markdown",
   "metadata": {},
   "source": [
    "if cluster 4 -> 9.5\n",
    "\n",
    "if cluster 1 -> 7\n",
    "\n",
    "if cluster 0 -> 5\n",
    "\n",
    "if cluster 4 -> 8\n",
    "\n",
    "if cluster 3 -> 2.5\n"
   ]
  },
  {
   "cell_type": "code",
   "execution_count": null,
   "metadata": {},
   "outputs": [],
   "source": [
    "# rating is out of 1500\n",
    "def rating_finder (row):\n",
    "    rate = 0\n",
    "    if(row['Cluster']==4):\n",
    "        rate=1400\n",
    "    if(row['Cluster']==1):\n",
    "        rate=1050\n",
    "    if(row['Cluster']==0):\n",
    "        rate=750\n",
    "    if(row['Cluster']==2):\n",
    "        rate=1200\n",
    "    if(row['Cluster']==3):\n",
    "        rate=450\n",
    "    return rate"
   ]
  },
  {
   "cell_type": "code",
   "execution_count": null,
   "metadata": {},
   "outputs": [],
   "source": [
    "dfprod['Rating_rf'] =dfprod.apply (lambda row: rating_finder(row), axis=1)\n",
    "# df['ProductId']=df.apply (lambda row: product_id_finder(row), axis=1)"
   ]
  },
  {
   "cell_type": "code",
   "execution_count": null,
   "metadata": {},
   "outputs": [],
   "source": [
    "# rating is out of 1500\n",
    "def rating_adder (row):\n",
    "    rate = row['Rating_rf']+row['Rank_Frequency']+row['Rank_Recency']\n",
    "    return rate"
   ]
  },
  {
   "cell_type": "code",
   "execution_count": null,
   "metadata": {},
   "outputs": [],
   "source": [
    "dfprod['Rating_rf_combined'] =dfprod.apply (lambda row: rating_adder(row), axis=1)"
   ]
  },
  {
   "cell_type": "code",
   "execution_count": null,
   "metadata": {},
   "outputs": [],
   "source": [
    "dfprod['Rating_rf_combined'].describe()"
   ]
  },
  {
   "cell_type": "code",
   "execution_count": null,
   "metadata": {},
   "outputs": [],
   "source": [
    "dfprod['Rating_rf_combined_fin']=dfprod['Rating_rf_combined_fin']/10"
   ]
  },
  {
   "cell_type": "code",
   "execution_count": null,
   "metadata": {},
   "outputs": [],
   "source": [
    "dfprod['Rating_rf_combined_fin'].describe()"
   ]
  },
  {
   "cell_type": "code",
   "execution_count": null,
   "metadata": {},
   "outputs": [],
   "source": [
    "dfprod['Rating_rf_combined_fin'] = pd.qcut( dfprod['Rating_rf_combined'].rank(method='first'),q=100, labels = range(1, 101, 1))\n",
    "dfprod['Rating_rf_combined_fin'] = pd.to_numeric(dfprod['Rating_rf_combined_fin'])\n"
   ]
  },
  {
   "cell_type": "code",
   "execution_count": null,
   "metadata": {},
   "outputs": [],
   "source": [
    "# Frequency\n",
    "df = pd.merge(df, dfprod[['ProductId','Rating_rf_combined_fin']], on='ProductId')\n"
   ]
  },
  {
   "cell_type": "code",
   "execution_count": null,
   "metadata": {},
   "outputs": [],
   "source": [
    "df"
   ]
  },
  {
   "cell_type": "markdown",
   "metadata": {},
   "source": [
    "Test Code"
   ]
  },
  {
   "cell_type": "code",
   "execution_count": null,
   "metadata": {},
   "outputs": [],
   "source": [
    "# def product_id_finder (row):\n",
    "#     return str(row['Company Code'])+str(row['Product'])+str(row['Product Category'])+str(row['Product Cost'])"
   ]
  },
  {
   "cell_type": "code",
   "execution_count": null,
   "metadata": {},
   "outputs": [],
   "source": [
    "# df['ProductId']=df.apply (lambda row: product_id_finder(row), axis=1)"
   ]
  },
  {
   "cell_type": "code",
   "execution_count": null,
   "metadata": {},
   "outputs": [],
   "source": [
    "# df=df.reset_index()\n",
    "# df =df.drop(['index'],axis=1)"
   ]
  },
  {
   "cell_type": "code",
   "execution_count": null,
   "metadata": {},
   "outputs": [],
   "source": [
    "# len(df['ProductId'].unique())"
   ]
  },
  {
   "cell_type": "code",
   "execution_count": null,
   "metadata": {},
   "outputs": [],
   "source": [
    "# df.head()"
   ]
  },
  {
   "cell_type": "code",
   "execution_count": null,
   "metadata": {},
   "outputs": [],
   "source": [
    "# df['Company Code'] = le_cc.inverse_transform(df['Company Code'])\n",
    "# df['Product'] = le_p.inverse_transform(df['Product'])\n",
    "# df['Product Category'] = le_pc.inverse_transform(df['Product Category'])\n",
    "# df['Product Cost'] = le_pcost.inverse_transform(df['Product Cost'])"
   ]
  },
  {
   "cell_type": "code",
   "execution_count": null,
   "metadata": {},
   "outputs": [],
   "source": []
  },
  {
   "cell_type": "markdown",
   "metadata": {},
   "source": []
  },
  {
   "cell_type": "markdown",
   "metadata": {},
   "source": [
    "Test code below"
   ]
  },
  {
   "cell_type": "code",
   "execution_count": null,
   "metadata": {},
   "outputs": [],
   "source": [
    "# dfclient = pd.DataFrame(df['Client'].unique())\n",
    "# dfclient.columns = ['Client']\n",
    "\n",
    "# # Recency\n",
    "# df_max_purchase = df.groupby('Client').Date.max().reset_index()\n",
    "# df_max_purchase.columns = ['Client','MaxPurchaseDate']\n",
    "# df_max_purchase['Recency'] = (df_max_purchase['MaxPurchaseDate'].max()+pd.DateOffset(1) - df_max_purchase['MaxPurchaseDate']).dt.days   \n",
    "# dfclient = pd.merge(dfclient, df_max_purchase[['Client','Recency']], on='Client')\n",
    "\n",
    "\n",
    "# # Frequency\n",
    "# dffreq = df.groupby('Client')['Order Number'].nunique().reset_index()\n",
    "# dffreq.columns = ['Client','Frequency']\n",
    "# dfclient = pd.merge(dfclient, dffreq, on='Client')\n",
    "\n",
    "\n",
    "# #Monetary\n",
    "# #calculate revenue for each customer\n",
    "# dfrev = df.groupby('Client').Total.sum().reset_index()\n",
    "# dfrev.columns = ['Client','Monetary']\n",
    "# dfclient = pd.merge(dfclient, dfrev[['Client','Monetary']], on='Client')\n",
    "\n",
    "# # Create a backup\n",
    "# dfclient_bk = dfclient.copy() "
   ]
  },
  {
   "cell_type": "code",
   "execution_count": null,
   "metadata": {},
   "outputs": [],
   "source": [
    "# from sklearn.preprocessing import MinMaxScaler\n",
    "# from sklearn.preprocessing import StandardScaler\n",
    "# scale = MinMaxScaler()\n",
    "# dfclient[['Recency','Frequency','Monetary']] = scale.fit_transform(dfclient[['Recency','Frequency','Monetary']])"
   ]
  },
  {
   "cell_type": "code",
   "execution_count": null,
   "metadata": {},
   "outputs": [],
   "source": [
    "# # Create ranks\n",
    "# dfclient['Rank_Recency'] = pd.qcut( dfclient['Recency'].rank(method='first'),q=2000, labels = range(2001, 1, -1),)\n",
    "# dfclient['Rank_Recency'] = pd.to_numeric(dfclient['Rank_Recency'])\n",
    "\n",
    "# dfclient['Rank_Frequency'] = pd.qcut( dfclient['Frequency'].rank(method='first'),q=2000, labels = range(1, 2001, 1))\n",
    "# dfclient['Rank_Frequency'] = pd.to_numeric(dfclient['Rank_Frequency'])\n",
    "\n",
    "# dfclient['Rank_Monetary'] = pd.qcut( dfclient['Monetary'].rank(method='first'),q=2000, labels = range(1, 2001, 1))\n",
    "# dfclient['Rank_Monetary'] = pd.to_numeric(dfclient['Rank_Monetary'])"
   ]
  }
 ],
 "metadata": {
  "kernelspec": {
   "display_name": "Python 3",
   "language": "python",
   "name": "python3"
  },
  "language_info": {
   "codemirror_mode": {
    "name": "ipython",
    "version": 3
   },
   "file_extension": ".py",
   "mimetype": "text/x-python",
   "name": "python",
   "nbconvert_exporter": "python",
   "pygments_lexer": "ipython3",
   "version": "3.8.6"
  }
 },
 "nbformat": 4,
 "nbformat_minor": 2
}
