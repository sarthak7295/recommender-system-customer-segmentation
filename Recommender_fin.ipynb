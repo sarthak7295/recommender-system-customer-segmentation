{
  "nbformat": 4,
  "nbformat_minor": 0,
  "metadata": {
    "accelerator": "GPU",
    "colab": {
      "name": "Movie_len test.ipynb",
      "provenance": [],
      "collapsed_sections": []
    },
    "kernelspec": {
      "display_name": "Python 3",
      "name": "python3"
    }
  },
  "cells": [
    {
      "cell_type": "code",
      "metadata": {
        "colab": {
          "base_uri": "https://localhost:8080/"
        },
        "id": "EVvFASiPd30P",
        "outputId": "b5a31980-74d7-4b76-8804-b546ccbb1d01"
      },
      "source": [
        "import pandas as pd\r\n",
        "import numpy as np\r\n",
        "from zipfile import ZipFile\r\n",
        "import tensorflow as tf\r\n",
        "from tensorflow import keras\r\n",
        "from tensorflow.keras import layers\r\n",
        "from pathlib import Path\r\n",
        "import matplotlib.pyplot as plt\r\n",
        "print('Setup done')"
      ],
      "execution_count": null,
      "outputs": [
        {
          "output_type": "stream",
          "text": [
            "Setup done\n"
          ],
          "name": "stdout"
        }
      ]
    },
    {
      "cell_type": "code",
      "metadata": {
        "colab": {
          "base_uri": "https://localhost:8080/"
        },
        "id": "u-lU34qpOGt4",
        "outputId": "7456e15d-3d02-484e-b0f1-1b51393252df"
      },
      "source": [
        "from google.colab import drive\r\n",
        "\r\n",
        "drive.mount('/content/gdrive',force_remount=True)"
      ],
      "execution_count": null,
      "outputs": [
        {
          "output_type": "stream",
          "text": [
            "Mounted at /content/gdrive\n"
          ],
          "name": "stdout"
        }
      ]
    },
    {
      "cell_type": "code",
      "metadata": {
        "colab": {
          "base_uri": "https://localhost:8080/"
        },
        "id": "eFJj83sOIbgn",
        "outputId": "891dd4fe-eb6b-4f29-91e0-1fa1cd0c6284"
      },
      "source": [
        "df = pd.read_csv('/content/gdrive/MyDrive/sar.csv', sep=',')\r\n",
        "df_client_rfm = pd.read_csv('/content/gdrive/MyDrive/client_rfm.csv', sep=',')\r\n",
        "print(\"dataset Loaded\")"
      ],
      "execution_count": null,
      "outputs": [
        {
          "output_type": "stream",
          "text": [
            "dataset Loaded\n"
          ],
          "name": "stdout"
        }
      ]
    },
    {
      "cell_type": "code",
      "metadata": {
        "id": "sZO_dyJfH2z2"
      },
      "source": [
        "df_client_rfm = df_client_rfm[['Client','Rank_Recency','Rank_Frequency','Rank_Monetary','Cluster']]"
      ],
      "execution_count": null,
      "outputs": []
    },
    {
      "cell_type": "code",
      "metadata": {
        "colab": {
          "base_uri": "https://localhost:8080/"
        },
        "id": "RULpnoC-Unsf",
        "outputId": "9de35ab8-e488-44fd-fbbd-8289a3078e35"
      },
      "source": [
        "df['ProductId'].nunique()"
      ],
      "execution_count": null,
      "outputs": [
        {
          "output_type": "execute_result",
          "data": {
            "text/plain": [
              "54708"
            ]
          },
          "metadata": {
            "tags": []
          },
          "execution_count": 5
        }
      ]
    },
    {
      "cell_type": "code",
      "metadata": {
        "colab": {
          "base_uri": "https://localhost:8080/"
        },
        "id": "LzPcnzrWbbSR",
        "outputId": "6f08a6ad-b113-49ca-963d-fcff04822b78"
      },
      "source": [
        "df_client_product = df[['Client','ProductId','Rating']].copy()\r\n",
        "df_client_product = pd.merge(df_client_product,df_client_rfm,on='Client',how='left')\r\n",
        "\r\n",
        "df_client_product.drop_duplicates(keep='first',inplace=True,subset=['Client','ProductId']) \r\n",
        "\r\n",
        "\r\n",
        "n_users = df_client_product['Client'].nunique()\r\n",
        "n_users"
      ],
      "execution_count": null,
      "outputs": [
        {
          "output_type": "execute_result",
          "data": {
            "text/plain": [
              "10816"
            ]
          },
          "metadata": {
            "tags": []
          },
          "execution_count": 6
        }
      ]
    },
    {
      "cell_type": "code",
      "metadata": {
        "colab": {
          "base_uri": "https://localhost:8080/"
        },
        "id": "4XVTttXNboxJ",
        "outputId": "eecbad78-e289-4548-dd98-53ffe242531e"
      },
      "source": [
        "df_product = df[['ProductId','Product','Product Category','Product Cost']].copy()\r\n",
        "df_product.drop_duplicates(keep='first',inplace=True) \r\n",
        "\r\n",
        "n_prod = df_product['ProductId'].nunique()\r\n",
        "n_prod"
      ],
      "execution_count": null,
      "outputs": [
        {
          "output_type": "execute_result",
          "data": {
            "text/plain": [
              "54708"
            ]
          },
          "metadata": {
            "tags": []
          },
          "execution_count": 7
        }
      ]
    },
    {
      "cell_type": "code",
      "metadata": {
        "id": "mCd_H3bhfsv3"
      },
      "source": [
        "from sklearn.model_selection import train_test_split\r\n",
        "from sklearn.preprocessing import LabelEncoder\r\n",
        "\r\n",
        "prod_enc = LabelEncoder()\r\n",
        "df_client_product['Client'] = prod_enc.fit_transform(df_client_product['Client'].values)\r\n",
        "\r\n",
        "prod_enc = LabelEncoder()\r\n",
        "df_product['Product'] = prod_enc.fit_transform(df_product['Product'].values)\r\n",
        "\r\n",
        "prod_cat_enc = LabelEncoder()\r\n",
        "df_product['Product Category'] = prod_cat_enc.fit_transform(df_product['Product Category'].values)\r\n",
        "\r\n",
        "prod_id_enc = LabelEncoder()\r\n",
        "df_product['ProductId'] = prod_id_enc.fit_transform(df_product['ProductId'].values)\r\n",
        "df_client_product['ProductId'] = prod_id_enc.transform(df_client_product['ProductId'].values)"
      ],
      "execution_count": null,
      "outputs": []
    },
    {
      "cell_type": "code",
      "metadata": {
        "id": "7v6zhZxepVn5"
      },
      "source": [
        "train, test = train_test_split(df_client_product, test_size=0.2, random_state=42)"
      ],
      "execution_count": null,
      "outputs": []
    },
    {
      "cell_type": "code",
      "metadata": {
        "id": "JitHDvYBmQBA"
      },
      "source": [
        "from keras.layers import Input, Embedding, Flatten, Dot, Dense,Concatenate\r\n",
        "from keras.models import Model\r\n",
        "\r\n",
        "product_input = Input(shape=[1], name=\"Product-Input\")\r\n",
        "\r\n",
        "product_embedding = Embedding(n_prod+1, 5, name=\"Product-Embedding\")(product_input)\r\n",
        "product_vec = Flatten(name=\"Flatten-Product\")(product_embedding)\r\n",
        "\r\n",
        "user_input = Input(shape=[1], name=\"User-Input\")\r\n",
        "user_embedding = Embedding(n_users+1, 5, name=\"User-Embedding\")(user_input)\r\n",
        "user_vec = Flatten(name=\"Flatten-Users\")(user_embedding)\r\n",
        "prod = Dot(name=\"Dot-Product\", axes=1)([product_vec, user_vec])\r\n",
        "# concatted = Concatenate()([product_vec, user_vec])\r\n",
        "# d = Dense(4, kernel_initializer='normal')(concatted)\r\n",
        "# out = Dense(1, kernel_initializer='normal')(d)\r\n",
        "model = Model([user_input, product_input], prod)\r\n",
        "model.compile('adam', 'mean_squared_error')"
      ],
      "execution_count": null,
      "outputs": []
    },
    {
      "cell_type": "code",
      "metadata": {
        "id": "YtpLXVolko_e"
      },
      "source": [
        "from keras.layers import Input, Embedding, Flatten, Dot, Dense,Concatenate\r\n",
        "from keras.models import Model\r\n",
        "\r\n",
        "product_input = Input(shape=[1], name=\"Product-Input\")\r\n",
        "\r\n",
        "product_embedding = Embedding(n_prod+1, 5, name=\"Product-Embedding\")(product_input)\r\n",
        "product_vec = Flatten(name=\"Flatten-Product\")(product_embedding)\r\n",
        "\r\n",
        "user_input = Input(shape=[5], name=\"User-Input\")\r\n",
        "user_embedding = Embedding(n_users+1, 8, name=\"User-Embedding\")(user_input)\r\n",
        "user_vec = Flatten(name=\"Flatten-Users\")(user_embedding)\r\n",
        "# prod = Dot(name=\"Dot-Product\", axes=1)([product_vec, user_vec])\r\n",
        "concatted = Concatenate()([product_vec, user_vec])\r\n",
        "d = Dense(4, kernel_initializer='normal')(concatted)\r\n",
        "out = Dense(1, kernel_initializer='normal')(d)\r\n",
        "model_rfm = Model([user_input, product_input], out)\r\n",
        "model_rfm.compile('adam', 'mean_squared_error')"
      ],
      "execution_count": null,
      "outputs": []
    },
    {
      "cell_type": "code",
      "metadata": {
        "colab": {
          "base_uri": "https://localhost:8080/",
          "height": 424
        },
        "id": "-5Pew3xWetug",
        "outputId": "74ad2157-921c-43c4-f2ce-e36a297599e5"
      },
      "source": [
        "df_client_product"
      ],
      "execution_count": null,
      "outputs": [
        {
          "output_type": "execute_result",
          "data": {
            "text/html": [
              "<div>\n",
              "<style scoped>\n",
              "    .dataframe tbody tr th:only-of-type {\n",
              "        vertical-align: middle;\n",
              "    }\n",
              "\n",
              "    .dataframe tbody tr th {\n",
              "        vertical-align: top;\n",
              "    }\n",
              "\n",
              "    .dataframe thead th {\n",
              "        text-align: right;\n",
              "    }\n",
              "</style>\n",
              "<table border=\"1\" class=\"dataframe\">\n",
              "  <thead>\n",
              "    <tr style=\"text-align: right;\">\n",
              "      <th></th>\n",
              "      <th>Client</th>\n",
              "      <th>ProductId</th>\n",
              "      <th>Rating</th>\n",
              "      <th>Rank_Recency</th>\n",
              "      <th>Rank_Frequency</th>\n",
              "      <th>Rank_Monetary</th>\n",
              "      <th>Cluster</th>\n",
              "    </tr>\n",
              "  </thead>\n",
              "  <tbody>\n",
              "    <tr>\n",
              "      <th>0</th>\n",
              "      <td>763</td>\n",
              "      <td>18402</td>\n",
              "      <td>7.5</td>\n",
              "      <td>1736</td>\n",
              "      <td>2000</td>\n",
              "      <td>2000</td>\n",
              "      <td>4</td>\n",
              "    </tr>\n",
              "    <tr>\n",
              "      <th>32</th>\n",
              "      <td>8310</td>\n",
              "      <td>17466</td>\n",
              "      <td>7.5</td>\n",
              "      <td>1170</td>\n",
              "      <td>2000</td>\n",
              "      <td>2000</td>\n",
              "      <td>4</td>\n",
              "    </tr>\n",
              "    <tr>\n",
              "      <th>64</th>\n",
              "      <td>697</td>\n",
              "      <td>14033</td>\n",
              "      <td>6.5</td>\n",
              "      <td>2001</td>\n",
              "      <td>2000</td>\n",
              "      <td>2000</td>\n",
              "      <td>4</td>\n",
              "    </tr>\n",
              "    <tr>\n",
              "      <th>96</th>\n",
              "      <td>763</td>\n",
              "      <td>23790</td>\n",
              "      <td>7.5</td>\n",
              "      <td>1736</td>\n",
              "      <td>2000</td>\n",
              "      <td>2000</td>\n",
              "      <td>4</td>\n",
              "    </tr>\n",
              "    <tr>\n",
              "      <th>128</th>\n",
              "      <td>763</td>\n",
              "      <td>16787</td>\n",
              "      <td>7.5</td>\n",
              "      <td>1736</td>\n",
              "      <td>2000</td>\n",
              "      <td>2000</td>\n",
              "      <td>4</td>\n",
              "    </tr>\n",
              "    <tr>\n",
              "      <th>...</th>\n",
              "      <td>...</td>\n",
              "      <td>...</td>\n",
              "      <td>...</td>\n",
              "      <td>...</td>\n",
              "      <td>...</td>\n",
              "      <td>...</td>\n",
              "      <td>...</td>\n",
              "    </tr>\n",
              "    <tr>\n",
              "      <th>1628892</th>\n",
              "      <td>2233</td>\n",
              "      <td>9840</td>\n",
              "      <td>4.5</td>\n",
              "      <td>1346</td>\n",
              "      <td>1562</td>\n",
              "      <td>1471</td>\n",
              "      <td>4</td>\n",
              "    </tr>\n",
              "    <tr>\n",
              "      <th>1628917</th>\n",
              "      <td>5848</td>\n",
              "      <td>9904</td>\n",
              "      <td>6.0</td>\n",
              "      <td>1515</td>\n",
              "      <td>1762</td>\n",
              "      <td>1802</td>\n",
              "      <td>4</td>\n",
              "    </tr>\n",
              "    <tr>\n",
              "      <th>1628918</th>\n",
              "      <td>6270</td>\n",
              "      <td>3711</td>\n",
              "      <td>6.0</td>\n",
              "      <td>1824</td>\n",
              "      <td>1940</td>\n",
              "      <td>1905</td>\n",
              "      <td>4</td>\n",
              "    </tr>\n",
              "    <tr>\n",
              "      <th>1628920</th>\n",
              "      <td>519</td>\n",
              "      <td>40335</td>\n",
              "      <td>5.0</td>\n",
              "      <td>1535</td>\n",
              "      <td>1426</td>\n",
              "      <td>1139</td>\n",
              "      <td>4</td>\n",
              "    </tr>\n",
              "    <tr>\n",
              "      <th>1628921</th>\n",
              "      <td>3438</td>\n",
              "      <td>2781</td>\n",
              "      <td>3.5</td>\n",
              "      <td>608</td>\n",
              "      <td>1961</td>\n",
              "      <td>1934</td>\n",
              "      <td>3</td>\n",
              "    </tr>\n",
              "  </tbody>\n",
              "</table>\n",
              "<p>503066 rows × 7 columns</p>\n",
              "</div>"
            ],
            "text/plain": [
              "         Client  ProductId  Rating  ...  Rank_Frequency  Rank_Monetary  Cluster\n",
              "0           763      18402     7.5  ...            2000           2000        4\n",
              "32         8310      17466     7.5  ...            2000           2000        4\n",
              "64          697      14033     6.5  ...            2000           2000        4\n",
              "96          763      23790     7.5  ...            2000           2000        4\n",
              "128         763      16787     7.5  ...            2000           2000        4\n",
              "...         ...        ...     ...  ...             ...            ...      ...\n",
              "1628892    2233       9840     4.5  ...            1562           1471        4\n",
              "1628917    5848       9904     6.0  ...            1762           1802        4\n",
              "1628918    6270       3711     6.0  ...            1940           1905        4\n",
              "1628920     519      40335     5.0  ...            1426           1139        4\n",
              "1628921    3438       2781     3.5  ...            1961           1934        3\n",
              "\n",
              "[503066 rows x 7 columns]"
            ]
          },
          "metadata": {
            "tags": []
          },
          "execution_count": 12
        }
      ]
    },
    {
      "cell_type": "code",
      "metadata": {
        "colab": {
          "base_uri": "https://localhost:8080/"
        },
        "id": "gIAI_a0QpXhP",
        "outputId": "8b154ec4-a450-47a2-8ef6-d4edc70b5ae6"
      },
      "source": [
        "history = model.fit([train[['Client']],\r\n",
        "                     train[['ProductId']]], train['Rating'],\r\n",
        "                    validation_data=\r\n",
        "                    ([test[['Client']],\r\n",
        "                      test['ProductId']], test['Rating']), epochs=2, verbose=1)\r\n",
        "model.save('regression_model.h5')"
      ],
      "execution_count": null,
      "outputs": [
        {
          "output_type": "stream",
          "text": [
            "Epoch 1/2\n",
            "12577/12577 [==============================] - 59s 5ms/step - loss: 22.8093 - val_loss: 17.5823\n",
            "Epoch 2/2\n",
            "12577/12577 [==============================] - 57s 5ms/step - loss: 14.0965 - val_loss: 7.7261\n"
          ],
          "name": "stdout"
        }
      ]
    },
    {
      "cell_type": "code",
      "metadata": {
        "colab": {
          "background_save": true,
          "base_uri": "https://localhost:8080/"
        },
        "id": "MGe3H3-hko-D",
        "outputId": "35b83d73-c28d-4963-dee6-8968b7f2000a"
      },
      "source": [
        "history_rfm = model_rfm.fit([train[['Client','Rank_Recency','Rank_Frequency','Rank_Monetary','Cluster']],\r\n",
        "                             train[['ProductId']]], train['Rating'],\r\n",
        "                            validation_data=([test[['Client','Rank_Recency','Rank_Frequency','Rank_Monetary','Cluster']],\r\n",
        "                                              test['ProductId']], test['Rating']), epochs=2, verbose=1)\r\n",
        "model_rfm.save('regression_model.h5')"
      ],
      "execution_count": null,
      "outputs": [
        {
          "output_type": "stream",
          "text": [
            "Epoch 1/2\n",
            "12577/12577 [==============================] - 62s 5ms/step - loss: 2.3175 - val_loss: 0.5006\n",
            "Epoch 2/2\n",
            "12577/12577 [==============================] - 60s 5ms/step - loss: 0.4217 - val_loss: 0.4626\n"
          ],
          "name": "stdout"
        }
      ]
    },
    {
      "cell_type": "code",
      "metadata": {
        "colab": {
          "background_save": true
        },
        "id": "az3-ob4qGSSK",
        "outputId": "8e12270c-a699-475f-cd5e-1c274b8a5352"
      },
      "source": [
        "plt.plot(history.history[\"loss\"])\r\n",
        "plt.plot(history.history[\"val_loss\"])\r\n",
        "plt.title(\"model loss\")\r\n",
        "plt.ylabel(\"loss\")\r\n",
        "plt.xlabel(\"epoch\")\r\n",
        "plt.legend([\"train\", \"test\"], loc=\"upper left\")\r\n",
        "plt.show()\r\n"
      ],
      "execution_count": null,
      "outputs": [
        {
          "output_type": "display_data",
          "data": {
            "image/png": "[encoded data removed]",
            "text/plain": [
              "<Figure size 432x288 with 1 Axes>"
            ]
          },
          "metadata": {
            "tags": []
          }
        }
      ]
    },
    {
      "cell_type": "code",
      "metadata": {
        "colab": {
          "background_save": true
        },
        "id": "h-MO9eYwiOMU"
      },
      "source": [
        "test[['Client','Rank_Recency','Rank_Frequency','Rank_Monetary','Cluster']].iloc[1]\r\n",
        "test['ProductId'].values\r\n",
        "product_db = np.array(list(set(test['ProductId'])))"
      ],
      "execution_count": null,
      "outputs": []
    },
    {
      "cell_type": "code",
      "metadata": {
        "colab": {
          "background_save": true
        },
        "id": "PQPS1Rm8gYF8"
      },
      "source": [
        "# Creating dataset for making recommendations for the first user\r\n",
        "# Without RFM\r\n",
        "\r\n",
        "product_db = np.array(list(set(train['ProductId'])))\r\n",
        "\r\n",
        "user = test[['Client','Rank_Recency','Rank_Frequency','Rank_Monetary','Cluster']].iloc[1]\r\n",
        "user = np.array([1 for i in range(len(product_db))])\r\n",
        "\r\n",
        "predictions = model.predict([user, product_db])\r\n",
        "\r\n",
        "predictions = np.array([a[0] for a in predictions])\r\n",
        "\r\n",
        "# recommended_book_ids = (-predictions).argsort()[:5]\r\n",
        "# print(recommended_book_ids)\r\n",
        "# print(predictions[recommended_book_ids])"
      ],
      "execution_count": null,
      "outputs": []
    },
    {
      "cell_type": "code",
      "metadata": {
        "colab": {
          "background_save": true
        },
        "id": "TLUR7eJxn-zD",
        "outputId": "bcad9c5c-43b2-4472-dd66-afcecd987bde"
      },
      "source": [
        "max(predictions)"
      ],
      "execution_count": null,
      "outputs": [
        {
          "output_type": "execute_result",
          "data": {
            "text/plain": [
              "4.721917"
            ]
          },
          "metadata": {
            "tags": []
          },
          "execution_count": 0
        }
      ]
    },
    {
      "cell_type": "code",
      "metadata": {
        "colab": {
          "background_save": true
        },
        "id": "RVkb1wdsldYW"
      },
      "source": [
        "# Creating dataset for making recommendations for the first user\r\n",
        "# With RFM\r\n",
        "\r\n",
        "product_db = np.array(list(set(df_client_product['ProductId'])))\r\n",
        "\r\n",
        "user = test[['Client','Rank_Recency','Rank_Frequency','Rank_Monetary','Cluster']].iloc[1].values\r\n",
        "user_t = np.array([user for i in range(len(product_db))])\r\n",
        "\r\n",
        "predictions = model_rfm.predict([user_t, product_db])\r\n",
        "\r\n",
        "predictions = np.array([a[0] for a in predictions])\r\n",
        "\r\n",
        "# recommended_book_ids = (-predictions).argsort()[:5]\r\n",
        "# print(recommended_book_ids)\r\n",
        "# print(predictions[recommended_book_ids])"
      ],
      "execution_count": null,
      "outputs": []
    },
    {
      "cell_type": "code",
      "metadata": {
        "colab": {
          "background_save": true
        },
        "id": "3eJxBd5zshr4",
        "outputId": "0a1913d8-2180-41e6-d7dc-296d5bfbbda6"
      },
      "source": [
        "user"
      ],
      "execution_count": null,
      "outputs": [
        {
          "output_type": "execute_result",
          "data": {
            "text/plain": [
              "array([6562, 1743, 1506, 1887,    4])"
            ]
          },
          "metadata": {
            "tags": []
          },
          "execution_count": 0
        }
      ]
    },
    {
      "cell_type": "code",
      "metadata": {
        "colab": {
          "background_save": true
        },
        "id": "v67EUYlysFUI",
        "outputId": "f3b490be-f840-4a18-e3d3-4fbe6b7a2f52"
      },
      "source": [
        "max(predictions)"
      ],
      "execution_count": null,
      "outputs": [
        {
          "output_type": "execute_result",
          "data": {
            "text/plain": [
              "6.831622"
            ]
          },
          "metadata": {
            "tags": []
          },
          "execution_count": 0
        }
      ]
    }
  ]
}